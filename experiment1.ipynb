{
  "nbformat": 4,
  "nbformat_minor": 0,
  "metadata": {
    "colab": {
      "provenance": [],
      "gpuType": "V100"
    },
    "kernelspec": {
      "name": "python3",
      "display_name": "Python 3"
    },
    "language_info": {
      "name": "python"
    },
    "accelerator": "GPU"
  },
  "cells": [
    {
      "cell_type": "code",
      "source": [
        "from sentence_transformers import SentenceTransformer\n",
        "from mteb import MTEB\n",
        "from rmt_laser import ModelModifier"
      ],
      "metadata": {
        "id": "stKklUN04yjV"
      },
      "execution_count": 1,
      "outputs": []
    },
    {
      "cell_type": "code",
      "source": [
        "import warnings\n",
        "# ignore the warning of huggingface datasets\n",
        "warnings.filterwarnings(\"ignore\")"
      ],
      "metadata": {
        "id": "tcpdomQa-_Lm"
      },
      "execution_count": 2,
      "outputs": []
    },
    {
      "cell_type": "code",
      "source": [
        "model = SentenceTransformer('sentence-transformers/all-MiniLM-L6-v2')"
      ],
      "metadata": {
        "id": "BymkKzRT4yZp"
      },
      "execution_count": 3,
      "outputs": []
    },
    {
      "cell_type": "code",
      "source": [
        "evaluation = MTEB(tasks=[\"AmazonCounterfactualClassification\"], task_langs=[\"en\"])\n",
        "results = evaluation.run(model, output_folder=f\"results\", eval_splits=[\"test\"], overwrite_results = True)\n",
        "results"
      ],
      "metadata": {
        "colab": {
          "base_uri": "https://localhost:8080/",
          "height": 272
        },
        "id": "1PrUpDKp5Aoj",
        "outputId": "e4395a85-dd5a-43cf-c5d5-bb598877779b"
      },
      "execution_count": 4,
      "outputs": [
        {
          "output_type": "display_data",
          "data": {
            "text/plain": [
              "\u001b[38;5;235m───────────────────────────────────────────────── \u001b[0m\u001b[1mSelected tasks \u001b[0m\u001b[38;5;235m ─────────────────────────────────────────────────\u001b[0m\n"
            ],
            "text/html": [
              "<pre style=\"white-space:pre;overflow-x:auto;line-height:normal;font-family:Menlo,'DejaVu Sans Mono',consolas,'Courier New',monospace\"><span style=\"color: #262626; text-decoration-color: #262626\">───────────────────────────────────────────────── </span><span style=\"font-weight: bold\">Selected tasks </span><span style=\"color: #262626; text-decoration-color: #262626\"> ─────────────────────────────────────────────────</span>\n",
              "</pre>\n"
            ]
          },
          "metadata": {}
        },
        {
          "output_type": "display_data",
          "data": {
            "text/plain": [
              "\u001b[1mClassification\u001b[0m\n"
            ],
            "text/html": [
              "<pre style=\"white-space:pre;overflow-x:auto;line-height:normal;font-family:Menlo,'DejaVu Sans Mono',consolas,'Courier New',monospace\"><span style=\"font-weight: bold\">Classification</span>\n",
              "</pre>\n"
            ]
          },
          "metadata": {}
        },
        {
          "output_type": "display_data",
          "data": {
            "text/plain": [
              "    - AmazonCounterfactualClassification, \u001b[3;38;5;241ms2s\u001b[0m, \u001b[3;31mmultilingual \u001b[0m\u001b[1;3;31m1\u001b[0m\u001b[3;31m \u001b[0m\u001b[3;31m/\u001b[0m\u001b[3;31m \u001b[0m\u001b[1;3;31m4\u001b[0m\u001b[3;31m langs\u001b[0m\n"
            ],
            "text/html": [
              "<pre style=\"white-space:pre;overflow-x:auto;line-height:normal;font-family:Menlo,'DejaVu Sans Mono',consolas,'Courier New',monospace\">    - AmazonCounterfactualClassification, <span style=\"color: #626262; text-decoration-color: #626262; font-style: italic\">s2s</span>, <span style=\"color: #800000; text-decoration-color: #800000; font-style: italic\">multilingual </span><span style=\"color: #800000; text-decoration-color: #800000; font-weight: bold; font-style: italic\">1</span><span style=\"color: #800000; text-decoration-color: #800000; font-style: italic\"> / </span><span style=\"color: #800000; text-decoration-color: #800000; font-weight: bold; font-style: italic\">4</span><span style=\"color: #800000; text-decoration-color: #800000; font-style: italic\"> langs</span>\n",
              "</pre>\n"
            ]
          },
          "metadata": {}
        },
        {
          "output_type": "display_data",
          "data": {
            "text/plain": [
              "\n",
              "\n"
            ],
            "text/html": [
              "<pre style=\"white-space:pre;overflow-x:auto;line-height:normal;font-family:Menlo,'DejaVu Sans Mono',consolas,'Courier New',monospace\">\n",
              "\n",
              "</pre>\n"
            ]
          },
          "metadata": {}
        },
        {
          "output_type": "execute_result",
          "data": {
            "text/plain": [
              "{'AmazonCounterfactualClassification': {'mteb_version': '1.1.1',\n",
              "  'dataset_revision': 'e8379541af4e31359cca9fbcf4b00f2671dba205',\n",
              "  'mteb_dataset_name': 'AmazonCounterfactualClassification',\n",
              "  'test': {'en': {'accuracy': 0.6358208955223881,\n",
              "    'f1': 0.575684526690965,\n",
              "    'ap': 0.26851178506856466,\n",
              "    'accuracy_stderr': 0.038817449507632086,\n",
              "    'f1_stderr': 0.0314147489193903,\n",
              "    'ap_stderr': 0.021065524721780828,\n",
              "    'main_score': 0.6358208955223881},\n",
              "   'evaluation_time': 4.41}}}"
            ]
          },
          "metadata": {},
          "execution_count": 4
        }
      ]
    },
    {
      "cell_type": "markdown",
      "source": [
        "Default run with only 5 modifications"
      ],
      "metadata": {
        "id": "ZDGQM-U_IbYh"
      }
    },
    {
      "cell_type": "code",
      "source": [
        "layers = list(range(5, -1, -1))\n",
        "layers = [f\".{l}.\" for l in layers]\n",
        "print(layers)\n",
        "\n",
        "modifier = ModelModifier(\"sentence-transformers/all-MiniLM-L6-v2\", \"AmazonCounterfactualClassification\", \"train\", \"accuracy\")\n",
        "\n",
        "loop_check, min_loss = modifier.search_optimal_layer_modification(layer_types=['attention.self.query', 'attention.self.key', 'attention.self.value', 'attention.output.dense', 'intermediate.dense', 'output.dense'], layer_numbers=layers, max_mod=5)"
      ],
      "metadata": {
        "colab": {
          "base_uri": "https://localhost:8080/",
          "height": 1000
        },
        "id": "EjRzUhOP72UB",
        "outputId": "0ab35e2a-c306-4e37-9d9f-74a3562275eb"
      },
      "execution_count": 5,
      "outputs": [
        {
          "output_type": "stream",
          "name": "stdout",
          "text": [
            "['.5.', '.4.', '.3.', '.2.', '.1.', '.0.']\n",
            "sentence-transformers/all-MiniLM-L6-v2\n"
          ]
        },
        {
          "output_type": "display_data",
          "data": {
            "text/plain": [
              "\u001b[38;5;235m───────────────────────────────────────────────── \u001b[0m\u001b[1mSelected tasks \u001b[0m\u001b[38;5;235m ─────────────────────────────────────────────────\u001b[0m\n"
            ],
            "text/html": [
              "<pre style=\"white-space:pre;overflow-x:auto;line-height:normal;font-family:Menlo,'DejaVu Sans Mono',consolas,'Courier New',monospace\"><span style=\"color: #262626; text-decoration-color: #262626\">───────────────────────────────────────────────── </span><span style=\"font-weight: bold\">Selected tasks </span><span style=\"color: #262626; text-decoration-color: #262626\"> ─────────────────────────────────────────────────</span>\n",
              "</pre>\n"
            ]
          },
          "metadata": {}
        },
        {
          "output_type": "display_data",
          "data": {
            "text/plain": [
              "\u001b[1mClassification\u001b[0m\n"
            ],
            "text/html": [
              "<pre style=\"white-space:pre;overflow-x:auto;line-height:normal;font-family:Menlo,'DejaVu Sans Mono',consolas,'Courier New',monospace\"><span style=\"font-weight: bold\">Classification</span>\n",
              "</pre>\n"
            ]
          },
          "metadata": {}
        },
        {
          "output_type": "display_data",
          "data": {
            "text/plain": [
              "    - AmazonCounterfactualClassification, \u001b[3;38;5;241ms2s\u001b[0m, \u001b[3;31mmultilingual \u001b[0m\u001b[1;3;31m1\u001b[0m\u001b[3;31m \u001b[0m\u001b[3;31m/\u001b[0m\u001b[3;31m \u001b[0m\u001b[1;3;31m4\u001b[0m\u001b[3;31m langs\u001b[0m\n"
            ],
            "text/html": [
              "<pre style=\"white-space:pre;overflow-x:auto;line-height:normal;font-family:Menlo,'DejaVu Sans Mono',consolas,'Courier New',monospace\">    - AmazonCounterfactualClassification, <span style=\"color: #626262; text-decoration-color: #626262; font-style: italic\">s2s</span>, <span style=\"color: #800000; text-decoration-color: #800000; font-style: italic\">multilingual </span><span style=\"color: #800000; text-decoration-color: #800000; font-weight: bold; font-style: italic\">1</span><span style=\"color: #800000; text-decoration-color: #800000; font-style: italic\"> / </span><span style=\"color: #800000; text-decoration-color: #800000; font-weight: bold; font-style: italic\">4</span><span style=\"color: #800000; text-decoration-color: #800000; font-style: italic\"> langs</span>\n",
              "</pre>\n"
            ]
          },
          "metadata": {}
        },
        {
          "output_type": "display_data",
          "data": {
            "text/plain": [
              "\n",
              "\n"
            ],
            "text/html": [
              "<pre style=\"white-space:pre;overflow-x:auto;line-height:normal;font-family:Menlo,'DejaVu Sans Mono',consolas,'Courier New',monospace\">\n",
              "\n",
              "</pre>\n"
            ]
          },
          "metadata": {}
        },
        {
          "output_type": "stream",
          "name": "stdout",
          "text": [
            "==================================================\n",
            "The initial performance of the model is 0.638302638128422\n",
            "==================================================\n",
            "Reconstructing layer: auto_model.encoder.layer.5.attention.self.query\n",
            "Reduced from torch.Size([384]) to 72\n"
          ]
        },
        {
          "output_type": "display_data",
          "data": {
            "text/plain": [
              "\u001b[38;5;235m───────────────────────────────────────────────── \u001b[0m\u001b[1mSelected tasks \u001b[0m\u001b[38;5;235m ─────────────────────────────────────────────────\u001b[0m\n"
            ],
            "text/html": [
              "<pre style=\"white-space:pre;overflow-x:auto;line-height:normal;font-family:Menlo,'DejaVu Sans Mono',consolas,'Courier New',monospace\"><span style=\"color: #262626; text-decoration-color: #262626\">───────────────────────────────────────────────── </span><span style=\"font-weight: bold\">Selected tasks </span><span style=\"color: #262626; text-decoration-color: #262626\"> ─────────────────────────────────────────────────</span>\n",
              "</pre>\n"
            ]
          },
          "metadata": {}
        },
        {
          "output_type": "display_data",
          "data": {
            "text/plain": [
              "\u001b[1mClassification\u001b[0m\n"
            ],
            "text/html": [
              "<pre style=\"white-space:pre;overflow-x:auto;line-height:normal;font-family:Menlo,'DejaVu Sans Mono',consolas,'Courier New',monospace\"><span style=\"font-weight: bold\">Classification</span>\n",
              "</pre>\n"
            ]
          },
          "metadata": {}
        },
        {
          "output_type": "display_data",
          "data": {
            "text/plain": [
              "    - AmazonCounterfactualClassification, \u001b[3;38;5;241ms2s\u001b[0m, \u001b[3;31mmultilingual \u001b[0m\u001b[1;3;31m1\u001b[0m\u001b[3;31m \u001b[0m\u001b[3;31m/\u001b[0m\u001b[3;31m \u001b[0m\u001b[1;3;31m4\u001b[0m\u001b[3;31m langs\u001b[0m\n"
            ],
            "text/html": [
              "<pre style=\"white-space:pre;overflow-x:auto;line-height:normal;font-family:Menlo,'DejaVu Sans Mono',consolas,'Courier New',monospace\">    - AmazonCounterfactualClassification, <span style=\"color: #626262; text-decoration-color: #626262; font-style: italic\">s2s</span>, <span style=\"color: #800000; text-decoration-color: #800000; font-style: italic\">multilingual </span><span style=\"color: #800000; text-decoration-color: #800000; font-weight: bold; font-style: italic\">1</span><span style=\"color: #800000; text-decoration-color: #800000; font-style: italic\"> / </span><span style=\"color: #800000; text-decoration-color: #800000; font-weight: bold; font-style: italic\">4</span><span style=\"color: #800000; text-decoration-color: #800000; font-style: italic\"> langs</span>\n",
              "</pre>\n"
            ]
          },
          "metadata": {}
        },
        {
          "output_type": "display_data",
          "data": {
            "text/plain": [
              "\n",
              "\n"
            ],
            "text/html": [
              "<pre style=\"white-space:pre;overflow-x:auto;line-height:normal;font-family:Menlo,'DejaVu Sans Mono',consolas,'Courier New',monospace\">\n",
              "\n",
              "</pre>\n"
            ]
          },
          "metadata": {}
        },
        {
          "output_type": "stream",
          "name": "stdout",
          "text": [
            "Restored original weights for layer: auto_model.encoder.layer.5.attention.self.query\n",
            "Reconstructing layer: auto_model.encoder.layer.5.attention.self.key\n",
            "Reduced from torch.Size([384]) to 73\n"
          ]
        },
        {
          "output_type": "display_data",
          "data": {
            "text/plain": [
              "\u001b[38;5;235m───────────────────────────────────────────────── \u001b[0m\u001b[1mSelected tasks \u001b[0m\u001b[38;5;235m ─────────────────────────────────────────────────\u001b[0m\n"
            ],
            "text/html": [
              "<pre style=\"white-space:pre;overflow-x:auto;line-height:normal;font-family:Menlo,'DejaVu Sans Mono',consolas,'Courier New',monospace\"><span style=\"color: #262626; text-decoration-color: #262626\">───────────────────────────────────────────────── </span><span style=\"font-weight: bold\">Selected tasks </span><span style=\"color: #262626; text-decoration-color: #262626\"> ─────────────────────────────────────────────────</span>\n",
              "</pre>\n"
            ]
          },
          "metadata": {}
        },
        {
          "output_type": "display_data",
          "data": {
            "text/plain": [
              "\u001b[1mClassification\u001b[0m\n"
            ],
            "text/html": [
              "<pre style=\"white-space:pre;overflow-x:auto;line-height:normal;font-family:Menlo,'DejaVu Sans Mono',consolas,'Courier New',monospace\"><span style=\"font-weight: bold\">Classification</span>\n",
              "</pre>\n"
            ]
          },
          "metadata": {}
        },
        {
          "output_type": "display_data",
          "data": {
            "text/plain": [
              "    - AmazonCounterfactualClassification, \u001b[3;38;5;241ms2s\u001b[0m, \u001b[3;31mmultilingual \u001b[0m\u001b[1;3;31m1\u001b[0m\u001b[3;31m \u001b[0m\u001b[3;31m/\u001b[0m\u001b[3;31m \u001b[0m\u001b[1;3;31m4\u001b[0m\u001b[3;31m langs\u001b[0m\n"
            ],
            "text/html": [
              "<pre style=\"white-space:pre;overflow-x:auto;line-height:normal;font-family:Menlo,'DejaVu Sans Mono',consolas,'Courier New',monospace\">    - AmazonCounterfactualClassification, <span style=\"color: #626262; text-decoration-color: #626262; font-style: italic\">s2s</span>, <span style=\"color: #800000; text-decoration-color: #800000; font-style: italic\">multilingual </span><span style=\"color: #800000; text-decoration-color: #800000; font-weight: bold; font-style: italic\">1</span><span style=\"color: #800000; text-decoration-color: #800000; font-style: italic\"> / </span><span style=\"color: #800000; text-decoration-color: #800000; font-weight: bold; font-style: italic\">4</span><span style=\"color: #800000; text-decoration-color: #800000; font-style: italic\"> langs</span>\n",
              "</pre>\n"
            ]
          },
          "metadata": {}
        },
        {
          "output_type": "display_data",
          "data": {
            "text/plain": [
              "\n",
              "\n"
            ],
            "text/html": [
              "<pre style=\"white-space:pre;overflow-x:auto;line-height:normal;font-family:Menlo,'DejaVu Sans Mono',consolas,'Courier New',monospace\">\n",
              "\n",
              "</pre>\n"
            ]
          },
          "metadata": {}
        },
        {
          "output_type": "stream",
          "name": "stdout",
          "text": [
            "**************************************************\n",
            "Improved performance: 0.6463165754106519 for layer attention.self.key .5.. Total modifications is 1\n",
            "**************************************************\n",
            "Reconstructing layer: auto_model.encoder.layer.5.attention.self.value\n",
            "Reduced from torch.Size([384]) to 75\n"
          ]
        },
        {
          "output_type": "display_data",
          "data": {
            "text/plain": [
              "\u001b[38;5;235m───────────────────────────────────────────────── \u001b[0m\u001b[1mSelected tasks \u001b[0m\u001b[38;5;235m ─────────────────────────────────────────────────\u001b[0m\n"
            ],
            "text/html": [
              "<pre style=\"white-space:pre;overflow-x:auto;line-height:normal;font-family:Menlo,'DejaVu Sans Mono',consolas,'Courier New',monospace\"><span style=\"color: #262626; text-decoration-color: #262626\">───────────────────────────────────────────────── </span><span style=\"font-weight: bold\">Selected tasks </span><span style=\"color: #262626; text-decoration-color: #262626\"> ─────────────────────────────────────────────────</span>\n",
              "</pre>\n"
            ]
          },
          "metadata": {}
        },
        {
          "output_type": "display_data",
          "data": {
            "text/plain": [
              "\u001b[1mClassification\u001b[0m\n"
            ],
            "text/html": [
              "<pre style=\"white-space:pre;overflow-x:auto;line-height:normal;font-family:Menlo,'DejaVu Sans Mono',consolas,'Courier New',monospace\"><span style=\"font-weight: bold\">Classification</span>\n",
              "</pre>\n"
            ]
          },
          "metadata": {}
        },
        {
          "output_type": "display_data",
          "data": {
            "text/plain": [
              "    - AmazonCounterfactualClassification, \u001b[3;38;5;241ms2s\u001b[0m, \u001b[3;31mmultilingual \u001b[0m\u001b[1;3;31m1\u001b[0m\u001b[3;31m \u001b[0m\u001b[3;31m/\u001b[0m\u001b[3;31m \u001b[0m\u001b[1;3;31m4\u001b[0m\u001b[3;31m langs\u001b[0m\n"
            ],
            "text/html": [
              "<pre style=\"white-space:pre;overflow-x:auto;line-height:normal;font-family:Menlo,'DejaVu Sans Mono',consolas,'Courier New',monospace\">    - AmazonCounterfactualClassification, <span style=\"color: #626262; text-decoration-color: #626262; font-style: italic\">s2s</span>, <span style=\"color: #800000; text-decoration-color: #800000; font-style: italic\">multilingual </span><span style=\"color: #800000; text-decoration-color: #800000; font-weight: bold; font-style: italic\">1</span><span style=\"color: #800000; text-decoration-color: #800000; font-style: italic\"> / </span><span style=\"color: #800000; text-decoration-color: #800000; font-weight: bold; font-style: italic\">4</span><span style=\"color: #800000; text-decoration-color: #800000; font-style: italic\"> langs</span>\n",
              "</pre>\n"
            ]
          },
          "metadata": {}
        },
        {
          "output_type": "display_data",
          "data": {
            "text/plain": [
              "\n",
              "\n"
            ],
            "text/html": [
              "<pre style=\"white-space:pre;overflow-x:auto;line-height:normal;font-family:Menlo,'DejaVu Sans Mono',consolas,'Courier New',monospace\">\n",
              "\n",
              "</pre>\n"
            ]
          },
          "metadata": {}
        },
        {
          "output_type": "stream",
          "name": "stdout",
          "text": [
            "**************************************************\n",
            "Improved performance: 0.6508461921353907 for layer attention.self.value .5.. Total modifications is 2\n",
            "**************************************************\n",
            "Reconstructing layer: auto_model.encoder.layer.5.attention.output.dense\n",
            "Reduced from torch.Size([384]) to 104\n"
          ]
        },
        {
          "output_type": "display_data",
          "data": {
            "text/plain": [
              "\u001b[38;5;235m───────────────────────────────────────────────── \u001b[0m\u001b[1mSelected tasks \u001b[0m\u001b[38;5;235m ─────────────────────────────────────────────────\u001b[0m\n"
            ],
            "text/html": [
              "<pre style=\"white-space:pre;overflow-x:auto;line-height:normal;font-family:Menlo,'DejaVu Sans Mono',consolas,'Courier New',monospace\"><span style=\"color: #262626; text-decoration-color: #262626\">───────────────────────────────────────────────── </span><span style=\"font-weight: bold\">Selected tasks </span><span style=\"color: #262626; text-decoration-color: #262626\"> ─────────────────────────────────────────────────</span>\n",
              "</pre>\n"
            ]
          },
          "metadata": {}
        },
        {
          "output_type": "display_data",
          "data": {
            "text/plain": [
              "\u001b[1mClassification\u001b[0m\n"
            ],
            "text/html": [
              "<pre style=\"white-space:pre;overflow-x:auto;line-height:normal;font-family:Menlo,'DejaVu Sans Mono',consolas,'Courier New',monospace\"><span style=\"font-weight: bold\">Classification</span>\n",
              "</pre>\n"
            ]
          },
          "metadata": {}
        },
        {
          "output_type": "display_data",
          "data": {
            "text/plain": [
              "    - AmazonCounterfactualClassification, \u001b[3;38;5;241ms2s\u001b[0m, \u001b[3;31mmultilingual \u001b[0m\u001b[1;3;31m1\u001b[0m\u001b[3;31m \u001b[0m\u001b[3;31m/\u001b[0m\u001b[3;31m \u001b[0m\u001b[1;3;31m4\u001b[0m\u001b[3;31m langs\u001b[0m\n"
            ],
            "text/html": [
              "<pre style=\"white-space:pre;overflow-x:auto;line-height:normal;font-family:Menlo,'DejaVu Sans Mono',consolas,'Courier New',monospace\">    - AmazonCounterfactualClassification, <span style=\"color: #626262; text-decoration-color: #626262; font-style: italic\">s2s</span>, <span style=\"color: #800000; text-decoration-color: #800000; font-style: italic\">multilingual </span><span style=\"color: #800000; text-decoration-color: #800000; font-weight: bold; font-style: italic\">1</span><span style=\"color: #800000; text-decoration-color: #800000; font-style: italic\"> / </span><span style=\"color: #800000; text-decoration-color: #800000; font-weight: bold; font-style: italic\">4</span><span style=\"color: #800000; text-decoration-color: #800000; font-style: italic\"> langs</span>\n",
              "</pre>\n"
            ]
          },
          "metadata": {}
        },
        {
          "output_type": "display_data",
          "data": {
            "text/plain": [
              "\n",
              "\n"
            ],
            "text/html": [
              "<pre style=\"white-space:pre;overflow-x:auto;line-height:normal;font-family:Menlo,'DejaVu Sans Mono',consolas,'Courier New',monospace\">\n",
              "\n",
              "</pre>\n"
            ]
          },
          "metadata": {}
        },
        {
          "output_type": "stream",
          "name": "stdout",
          "text": [
            "**************************************************\n",
            "Improved performance: 0.652190144350423 for layer attention.output.dense .5.. Total modifications is 3\n",
            "**************************************************\n",
            "Reconstructing layer: auto_model.encoder.layer.5.intermediate.dense\n",
            "Reduced from torch.Size([384]) to 295\n"
          ]
        },
        {
          "output_type": "display_data",
          "data": {
            "text/plain": [
              "\u001b[38;5;235m───────────────────────────────────────────────── \u001b[0m\u001b[1mSelected tasks \u001b[0m\u001b[38;5;235m ─────────────────────────────────────────────────\u001b[0m\n"
            ],
            "text/html": [
              "<pre style=\"white-space:pre;overflow-x:auto;line-height:normal;font-family:Menlo,'DejaVu Sans Mono',consolas,'Courier New',monospace\"><span style=\"color: #262626; text-decoration-color: #262626\">───────────────────────────────────────────────── </span><span style=\"font-weight: bold\">Selected tasks </span><span style=\"color: #262626; text-decoration-color: #262626\"> ─────────────────────────────────────────────────</span>\n",
              "</pre>\n"
            ]
          },
          "metadata": {}
        },
        {
          "output_type": "display_data",
          "data": {
            "text/plain": [
              "\u001b[1mClassification\u001b[0m\n"
            ],
            "text/html": [
              "<pre style=\"white-space:pre;overflow-x:auto;line-height:normal;font-family:Menlo,'DejaVu Sans Mono',consolas,'Courier New',monospace\"><span style=\"font-weight: bold\">Classification</span>\n",
              "</pre>\n"
            ]
          },
          "metadata": {}
        },
        {
          "output_type": "display_data",
          "data": {
            "text/plain": [
              "    - AmazonCounterfactualClassification, \u001b[3;38;5;241ms2s\u001b[0m, \u001b[3;31mmultilingual \u001b[0m\u001b[1;3;31m1\u001b[0m\u001b[3;31m \u001b[0m\u001b[3;31m/\u001b[0m\u001b[3;31m \u001b[0m\u001b[1;3;31m4\u001b[0m\u001b[3;31m langs\u001b[0m\n"
            ],
            "text/html": [
              "<pre style=\"white-space:pre;overflow-x:auto;line-height:normal;font-family:Menlo,'DejaVu Sans Mono',consolas,'Courier New',monospace\">    - AmazonCounterfactualClassification, <span style=\"color: #626262; text-decoration-color: #626262; font-style: italic\">s2s</span>, <span style=\"color: #800000; text-decoration-color: #800000; font-style: italic\">multilingual </span><span style=\"color: #800000; text-decoration-color: #800000; font-weight: bold; font-style: italic\">1</span><span style=\"color: #800000; text-decoration-color: #800000; font-style: italic\"> / </span><span style=\"color: #800000; text-decoration-color: #800000; font-weight: bold; font-style: italic\">4</span><span style=\"color: #800000; text-decoration-color: #800000; font-style: italic\"> langs</span>\n",
              "</pre>\n"
            ]
          },
          "metadata": {}
        },
        {
          "output_type": "display_data",
          "data": {
            "text/plain": [
              "\n",
              "\n"
            ],
            "text/html": [
              "<pre style=\"white-space:pre;overflow-x:auto;line-height:normal;font-family:Menlo,'DejaVu Sans Mono',consolas,'Courier New',monospace\">\n",
              "\n",
              "</pre>\n"
            ]
          },
          "metadata": {}
        },
        {
          "output_type": "stream",
          "name": "stdout",
          "text": [
            "Restored original weights for layer: auto_model.encoder.layer.5.intermediate.dense\n",
            "Reconstructing layer: auto_model.encoder.layer.5.attention.output.dense\n",
            "Reduced from torch.Size([384]) to 13\n"
          ]
        },
        {
          "output_type": "display_data",
          "data": {
            "text/plain": [
              "\u001b[38;5;235m───────────────────────────────────────────────── \u001b[0m\u001b[1mSelected tasks \u001b[0m\u001b[38;5;235m ─────────────────────────────────────────────────\u001b[0m\n"
            ],
            "text/html": [
              "<pre style=\"white-space:pre;overflow-x:auto;line-height:normal;font-family:Menlo,'DejaVu Sans Mono',consolas,'Courier New',monospace\"><span style=\"color: #262626; text-decoration-color: #262626\">───────────────────────────────────────────────── </span><span style=\"font-weight: bold\">Selected tasks </span><span style=\"color: #262626; text-decoration-color: #262626\"> ─────────────────────────────────────────────────</span>\n",
              "</pre>\n"
            ]
          },
          "metadata": {}
        },
        {
          "output_type": "display_data",
          "data": {
            "text/plain": [
              "\u001b[1mClassification\u001b[0m\n"
            ],
            "text/html": [
              "<pre style=\"white-space:pre;overflow-x:auto;line-height:normal;font-family:Menlo,'DejaVu Sans Mono',consolas,'Courier New',monospace\"><span style=\"font-weight: bold\">Classification</span>\n",
              "</pre>\n"
            ]
          },
          "metadata": {}
        },
        {
          "output_type": "display_data",
          "data": {
            "text/plain": [
              "    - AmazonCounterfactualClassification, \u001b[3;38;5;241ms2s\u001b[0m, \u001b[3;31mmultilingual \u001b[0m\u001b[1;3;31m1\u001b[0m\u001b[3;31m \u001b[0m\u001b[3;31m/\u001b[0m\u001b[3;31m \u001b[0m\u001b[1;3;31m4\u001b[0m\u001b[3;31m langs\u001b[0m\n"
            ],
            "text/html": [
              "<pre style=\"white-space:pre;overflow-x:auto;line-height:normal;font-family:Menlo,'DejaVu Sans Mono',consolas,'Courier New',monospace\">    - AmazonCounterfactualClassification, <span style=\"color: #626262; text-decoration-color: #626262; font-style: italic\">s2s</span>, <span style=\"color: #800000; text-decoration-color: #800000; font-style: italic\">multilingual </span><span style=\"color: #800000; text-decoration-color: #800000; font-weight: bold; font-style: italic\">1</span><span style=\"color: #800000; text-decoration-color: #800000; font-style: italic\"> / </span><span style=\"color: #800000; text-decoration-color: #800000; font-weight: bold; font-style: italic\">4</span><span style=\"color: #800000; text-decoration-color: #800000; font-style: italic\"> langs</span>\n",
              "</pre>\n"
            ]
          },
          "metadata": {}
        },
        {
          "output_type": "display_data",
          "data": {
            "text/plain": [
              "\n",
              "\n"
            ],
            "text/html": [
              "<pre style=\"white-space:pre;overflow-x:auto;line-height:normal;font-family:Menlo,'DejaVu Sans Mono',consolas,'Courier New',monospace\">\n",
              "\n",
              "</pre>\n"
            ]
          },
          "metadata": {}
        },
        {
          "output_type": "stream",
          "name": "stdout",
          "text": [
            "**************************************************\n",
            "Improved performance: 0.6532603285216526 for layer output.dense .5.. Total modifications is 4\n",
            "**************************************************\n",
            "Reconstructing layer: auto_model.encoder.layer.4.attention.self.query\n",
            "Reduced from torch.Size([384]) to 68\n"
          ]
        },
        {
          "output_type": "display_data",
          "data": {
            "text/plain": [
              "\u001b[38;5;235m───────────────────────────────────────────────── \u001b[0m\u001b[1mSelected tasks \u001b[0m\u001b[38;5;235m ─────────────────────────────────────────────────\u001b[0m\n"
            ],
            "text/html": [
              "<pre style=\"white-space:pre;overflow-x:auto;line-height:normal;font-family:Menlo,'DejaVu Sans Mono',consolas,'Courier New',monospace\"><span style=\"color: #262626; text-decoration-color: #262626\">───────────────────────────────────────────────── </span><span style=\"font-weight: bold\">Selected tasks </span><span style=\"color: #262626; text-decoration-color: #262626\"> ─────────────────────────────────────────────────</span>\n",
              "</pre>\n"
            ]
          },
          "metadata": {}
        },
        {
          "output_type": "display_data",
          "data": {
            "text/plain": [
              "\u001b[1mClassification\u001b[0m\n"
            ],
            "text/html": [
              "<pre style=\"white-space:pre;overflow-x:auto;line-height:normal;font-family:Menlo,'DejaVu Sans Mono',consolas,'Courier New',monospace\"><span style=\"font-weight: bold\">Classification</span>\n",
              "</pre>\n"
            ]
          },
          "metadata": {}
        },
        {
          "output_type": "display_data",
          "data": {
            "text/plain": [
              "    - AmazonCounterfactualClassification, \u001b[3;38;5;241ms2s\u001b[0m, \u001b[3;31mmultilingual \u001b[0m\u001b[1;3;31m1\u001b[0m\u001b[3;31m \u001b[0m\u001b[3;31m/\u001b[0m\u001b[3;31m \u001b[0m\u001b[1;3;31m4\u001b[0m\u001b[3;31m langs\u001b[0m\n"
            ],
            "text/html": [
              "<pre style=\"white-space:pre;overflow-x:auto;line-height:normal;font-family:Menlo,'DejaVu Sans Mono',consolas,'Courier New',monospace\">    - AmazonCounterfactualClassification, <span style=\"color: #626262; text-decoration-color: #626262; font-style: italic\">s2s</span>, <span style=\"color: #800000; text-decoration-color: #800000; font-style: italic\">multilingual </span><span style=\"color: #800000; text-decoration-color: #800000; font-weight: bold; font-style: italic\">1</span><span style=\"color: #800000; text-decoration-color: #800000; font-style: italic\"> / </span><span style=\"color: #800000; text-decoration-color: #800000; font-weight: bold; font-style: italic\">4</span><span style=\"color: #800000; text-decoration-color: #800000; font-style: italic\"> langs</span>\n",
              "</pre>\n"
            ]
          },
          "metadata": {}
        },
        {
          "output_type": "display_data",
          "data": {
            "text/plain": [
              "\n",
              "\n"
            ],
            "text/html": [
              "<pre style=\"white-space:pre;overflow-x:auto;line-height:normal;font-family:Menlo,'DejaVu Sans Mono',consolas,'Courier New',monospace\">\n",
              "\n",
              "</pre>\n"
            ]
          },
          "metadata": {}
        },
        {
          "output_type": "stream",
          "name": "stdout",
          "text": [
            "**************************************************\n",
            "Improved performance: 0.6606520657043304 for layer attention.self.query .4.. Total modifications is 5\n",
            "**************************************************\n"
          ]
        }
      ]
    },
    {
      "cell_type": "code",
      "source": [
        "evaluation = MTEB(tasks=[\"AmazonCounterfactualClassification\"], task_langs=[\"en\"])\n",
        "results = evaluation.run(modifier.model, output_folder=f\"results\", eval_splits=[\"test\"], overwrite_results = True)"
      ],
      "metadata": {
        "colab": {
          "base_uri": "https://localhost:8080/",
          "height": 81
        },
        "id": "vfeQd7b3_MSX",
        "outputId": "5199718c-a404-4c57-f7e5-ee87646e2494"
      },
      "execution_count": 6,
      "outputs": [
        {
          "output_type": "display_data",
          "data": {
            "text/plain": [
              "\u001b[38;5;235m───────────────────────────────────────────────── \u001b[0m\u001b[1mSelected tasks \u001b[0m\u001b[38;5;235m ─────────────────────────────────────────────────\u001b[0m\n"
            ],
            "text/html": [
              "<pre style=\"white-space:pre;overflow-x:auto;line-height:normal;font-family:Menlo,'DejaVu Sans Mono',consolas,'Courier New',monospace\"><span style=\"color: #262626; text-decoration-color: #262626\">───────────────────────────────────────────────── </span><span style=\"font-weight: bold\">Selected tasks </span><span style=\"color: #262626; text-decoration-color: #262626\"> ─────────────────────────────────────────────────</span>\n",
              "</pre>\n"
            ]
          },
          "metadata": {}
        },
        {
          "output_type": "display_data",
          "data": {
            "text/plain": [
              "\u001b[1mClassification\u001b[0m\n"
            ],
            "text/html": [
              "<pre style=\"white-space:pre;overflow-x:auto;line-height:normal;font-family:Menlo,'DejaVu Sans Mono',consolas,'Courier New',monospace\"><span style=\"font-weight: bold\">Classification</span>\n",
              "</pre>\n"
            ]
          },
          "metadata": {}
        },
        {
          "output_type": "display_data",
          "data": {
            "text/plain": [
              "    - AmazonCounterfactualClassification, \u001b[3;38;5;241ms2s\u001b[0m, \u001b[3;31mmultilingual \u001b[0m\u001b[1;3;31m1\u001b[0m\u001b[3;31m \u001b[0m\u001b[3;31m/\u001b[0m\u001b[3;31m \u001b[0m\u001b[1;3;31m4\u001b[0m\u001b[3;31m langs\u001b[0m\n"
            ],
            "text/html": [
              "<pre style=\"white-space:pre;overflow-x:auto;line-height:normal;font-family:Menlo,'DejaVu Sans Mono',consolas,'Courier New',monospace\">    - AmazonCounterfactualClassification, <span style=\"color: #626262; text-decoration-color: #626262; font-style: italic\">s2s</span>, <span style=\"color: #800000; text-decoration-color: #800000; font-style: italic\">multilingual </span><span style=\"color: #800000; text-decoration-color: #800000; font-weight: bold; font-style: italic\">1</span><span style=\"color: #800000; text-decoration-color: #800000; font-style: italic\"> / </span><span style=\"color: #800000; text-decoration-color: #800000; font-weight: bold; font-style: italic\">4</span><span style=\"color: #800000; text-decoration-color: #800000; font-style: italic\"> langs</span>\n",
              "</pre>\n"
            ]
          },
          "metadata": {}
        },
        {
          "output_type": "display_data",
          "data": {
            "text/plain": [
              "\n",
              "\n"
            ],
            "text/html": [
              "<pre style=\"white-space:pre;overflow-x:auto;line-height:normal;font-family:Menlo,'DejaVu Sans Mono',consolas,'Courier New',monospace\">\n",
              "\n",
              "</pre>\n"
            ]
          },
          "metadata": {}
        }
      ]
    },
    {
      "cell_type": "code",
      "source": [
        "results"
      ],
      "metadata": {
        "colab": {
          "base_uri": "https://localhost:8080/"
        },
        "id": "GI3cmI8A_v0C",
        "outputId": "0a63b65a-1304-4ce1-bf1b-532d02fc4b92"
      },
      "execution_count": 7,
      "outputs": [
        {
          "output_type": "execute_result",
          "data": {
            "text/plain": [
              "{'AmazonCounterfactualClassification': {'mteb_version': '1.1.1',\n",
              "  'dataset_revision': 'e8379541af4e31359cca9fbcf4b00f2671dba205',\n",
              "  'mteb_dataset_name': 'AmazonCounterfactualClassification',\n",
              "  'test': {'en': {'accuracy': 0.6453731343283582,\n",
              "    'f1': 0.581659644697337,\n",
              "    'ap': 0.27151949056389996,\n",
              "    'accuracy_stderr': 0.04884589174706333,\n",
              "    'f1_stderr': 0.03677148957425979,\n",
              "    'ap_stderr': 0.0211363201281932,\n",
              "    'main_score': 0.6453731343283582},\n",
              "   'evaluation_time': 1.99}}}"
            ]
          },
          "metadata": {},
          "execution_count": 7
        }
      ]
    },
    {
      "cell_type": "markdown",
      "source": [
        "Lets go brrrrum"
      ],
      "metadata": {
        "id": "D4T54DVxIh2X"
      }
    },
    {
      "cell_type": "code",
      "source": [
        "layers = list(range(5, -1, -1))\n",
        "layers = [f\".{l}.\" for l in layers]\n",
        "print(layers)\n",
        "\n",
        "modifier = ModelModifier(\"sentence-transformers/all-MiniLM-L6-v2\", \"AmazonCounterfactualClassification\", \"train\", \"accuracy\")\n",
        "\n",
        "loop_check, min_loss = modifier.search_optimal_layer_modification(layer_types=['attention.self.query', 'attention.self.key', 'attention.self.value', 'attention.output.dense', 'intermediate.dense', 'output.dense'], layer_numbers=layers, max_mod=-1)"
      ],
      "metadata": {
        "colab": {
          "base_uri": "https://localhost:8080/",
          "height": 1000
        },
        "id": "EzNImDeDIg7-",
        "outputId": "852f2a83-abe3-4291-9be5-ba06198bece3"
      },
      "execution_count": 8,
      "outputs": [
        {
          "output_type": "stream",
          "name": "stdout",
          "text": [
            "['.5.', '.4.', '.3.', '.2.', '.1.', '.0.']\n",
            "sentence-transformers/all-MiniLM-L6-v2\n"
          ]
        },
        {
          "output_type": "display_data",
          "data": {
            "text/plain": [
              "\u001b[38;5;235m───────────────────────────────────────────────── \u001b[0m\u001b[1mSelected tasks \u001b[0m\u001b[38;5;235m ─────────────────────────────────────────────────\u001b[0m\n"
            ],
            "text/html": [
              "<pre style=\"white-space:pre;overflow-x:auto;line-height:normal;font-family:Menlo,'DejaVu Sans Mono',consolas,'Courier New',monospace\"><span style=\"color: #262626; text-decoration-color: #262626\">───────────────────────────────────────────────── </span><span style=\"font-weight: bold\">Selected tasks </span><span style=\"color: #262626; text-decoration-color: #262626\"> ─────────────────────────────────────────────────</span>\n",
              "</pre>\n"
            ]
          },
          "metadata": {}
        },
        {
          "output_type": "display_data",
          "data": {
            "text/plain": [
              "\u001b[1mClassification\u001b[0m\n"
            ],
            "text/html": [
              "<pre style=\"white-space:pre;overflow-x:auto;line-height:normal;font-family:Menlo,'DejaVu Sans Mono',consolas,'Courier New',monospace\"><span style=\"font-weight: bold\">Classification</span>\n",
              "</pre>\n"
            ]
          },
          "metadata": {}
        },
        {
          "output_type": "display_data",
          "data": {
            "text/plain": [
              "    - AmazonCounterfactualClassification, \u001b[3;38;5;241ms2s\u001b[0m, \u001b[3;31mmultilingual \u001b[0m\u001b[1;3;31m1\u001b[0m\u001b[3;31m \u001b[0m\u001b[3;31m/\u001b[0m\u001b[3;31m \u001b[0m\u001b[1;3;31m4\u001b[0m\u001b[3;31m langs\u001b[0m\n"
            ],
            "text/html": [
              "<pre style=\"white-space:pre;overflow-x:auto;line-height:normal;font-family:Menlo,'DejaVu Sans Mono',consolas,'Courier New',monospace\">    - AmazonCounterfactualClassification, <span style=\"color: #626262; text-decoration-color: #626262; font-style: italic\">s2s</span>, <span style=\"color: #800000; text-decoration-color: #800000; font-style: italic\">multilingual </span><span style=\"color: #800000; text-decoration-color: #800000; font-weight: bold; font-style: italic\">1</span><span style=\"color: #800000; text-decoration-color: #800000; font-style: italic\"> / </span><span style=\"color: #800000; text-decoration-color: #800000; font-weight: bold; font-style: italic\">4</span><span style=\"color: #800000; text-decoration-color: #800000; font-style: italic\"> langs</span>\n",
              "</pre>\n"
            ]
          },
          "metadata": {}
        },
        {
          "output_type": "display_data",
          "data": {
            "text/plain": [
              "\n",
              "\n"
            ],
            "text/html": [
              "<pre style=\"white-space:pre;overflow-x:auto;line-height:normal;font-family:Menlo,'DejaVu Sans Mono',consolas,'Courier New',monospace\">\n",
              "\n",
              "</pre>\n"
            ]
          },
          "metadata": {}
        },
        {
          "output_type": "stream",
          "name": "stdout",
          "text": [
            "==================================================\n",
            "The initial performance of the model is 0.638302638128422\n",
            "==================================================\n",
            "Reconstructing layer: auto_model.encoder.layer.5.attention.self.query\n",
            "Reduced from torch.Size([384]) to 72\n"
          ]
        },
        {
          "output_type": "display_data",
          "data": {
            "text/plain": [
              "\u001b[38;5;235m───────────────────────────────────────────────── \u001b[0m\u001b[1mSelected tasks \u001b[0m\u001b[38;5;235m ─────────────────────────────────────────────────\u001b[0m\n"
            ],
            "text/html": [
              "<pre style=\"white-space:pre;overflow-x:auto;line-height:normal;font-family:Menlo,'DejaVu Sans Mono',consolas,'Courier New',monospace\"><span style=\"color: #262626; text-decoration-color: #262626\">───────────────────────────────────────────────── </span><span style=\"font-weight: bold\">Selected tasks </span><span style=\"color: #262626; text-decoration-color: #262626\"> ─────────────────────────────────────────────────</span>\n",
              "</pre>\n"
            ]
          },
          "metadata": {}
        },
        {
          "output_type": "display_data",
          "data": {
            "text/plain": [
              "\u001b[1mClassification\u001b[0m\n"
            ],
            "text/html": [
              "<pre style=\"white-space:pre;overflow-x:auto;line-height:normal;font-family:Menlo,'DejaVu Sans Mono',consolas,'Courier New',monospace\"><span style=\"font-weight: bold\">Classification</span>\n",
              "</pre>\n"
            ]
          },
          "metadata": {}
        },
        {
          "output_type": "display_data",
          "data": {
            "text/plain": [
              "    - AmazonCounterfactualClassification, \u001b[3;38;5;241ms2s\u001b[0m, \u001b[3;31mmultilingual \u001b[0m\u001b[1;3;31m1\u001b[0m\u001b[3;31m \u001b[0m\u001b[3;31m/\u001b[0m\u001b[3;31m \u001b[0m\u001b[1;3;31m4\u001b[0m\u001b[3;31m langs\u001b[0m\n"
            ],
            "text/html": [
              "<pre style=\"white-space:pre;overflow-x:auto;line-height:normal;font-family:Menlo,'DejaVu Sans Mono',consolas,'Courier New',monospace\">    - AmazonCounterfactualClassification, <span style=\"color: #626262; text-decoration-color: #626262; font-style: italic\">s2s</span>, <span style=\"color: #800000; text-decoration-color: #800000; font-style: italic\">multilingual </span><span style=\"color: #800000; text-decoration-color: #800000; font-weight: bold; font-style: italic\">1</span><span style=\"color: #800000; text-decoration-color: #800000; font-style: italic\"> / </span><span style=\"color: #800000; text-decoration-color: #800000; font-weight: bold; font-style: italic\">4</span><span style=\"color: #800000; text-decoration-color: #800000; font-style: italic\"> langs</span>\n",
              "</pre>\n"
            ]
          },
          "metadata": {}
        },
        {
          "output_type": "display_data",
          "data": {
            "text/plain": [
              "\n",
              "\n"
            ],
            "text/html": [
              "<pre style=\"white-space:pre;overflow-x:auto;line-height:normal;font-family:Menlo,'DejaVu Sans Mono',consolas,'Courier New',monospace\">\n",
              "\n",
              "</pre>\n"
            ]
          },
          "metadata": {}
        },
        {
          "output_type": "stream",
          "name": "stdout",
          "text": [
            "Restored original weights for layer: auto_model.encoder.layer.5.attention.self.query\n",
            "Reconstructing layer: auto_model.encoder.layer.5.attention.self.key\n",
            "Reduced from torch.Size([384]) to 73\n"
          ]
        },
        {
          "output_type": "display_data",
          "data": {
            "text/plain": [
              "\u001b[38;5;235m───────────────────────────────────────────────── \u001b[0m\u001b[1mSelected tasks \u001b[0m\u001b[38;5;235m ─────────────────────────────────────────────────\u001b[0m\n"
            ],
            "text/html": [
              "<pre style=\"white-space:pre;overflow-x:auto;line-height:normal;font-family:Menlo,'DejaVu Sans Mono',consolas,'Courier New',monospace\"><span style=\"color: #262626; text-decoration-color: #262626\">───────────────────────────────────────────────── </span><span style=\"font-weight: bold\">Selected tasks </span><span style=\"color: #262626; text-decoration-color: #262626\"> ─────────────────────────────────────────────────</span>\n",
              "</pre>\n"
            ]
          },
          "metadata": {}
        },
        {
          "output_type": "display_data",
          "data": {
            "text/plain": [
              "\u001b[1mClassification\u001b[0m\n"
            ],
            "text/html": [
              "<pre style=\"white-space:pre;overflow-x:auto;line-height:normal;font-family:Menlo,'DejaVu Sans Mono',consolas,'Courier New',monospace\"><span style=\"font-weight: bold\">Classification</span>\n",
              "</pre>\n"
            ]
          },
          "metadata": {}
        },
        {
          "output_type": "display_data",
          "data": {
            "text/plain": [
              "    - AmazonCounterfactualClassification, \u001b[3;38;5;241ms2s\u001b[0m, \u001b[3;31mmultilingual \u001b[0m\u001b[1;3;31m1\u001b[0m\u001b[3;31m \u001b[0m\u001b[3;31m/\u001b[0m\u001b[3;31m \u001b[0m\u001b[1;3;31m4\u001b[0m\u001b[3;31m langs\u001b[0m\n"
            ],
            "text/html": [
              "<pre style=\"white-space:pre;overflow-x:auto;line-height:normal;font-family:Menlo,'DejaVu Sans Mono',consolas,'Courier New',monospace\">    - AmazonCounterfactualClassification, <span style=\"color: #626262; text-decoration-color: #626262; font-style: italic\">s2s</span>, <span style=\"color: #800000; text-decoration-color: #800000; font-style: italic\">multilingual </span><span style=\"color: #800000; text-decoration-color: #800000; font-weight: bold; font-style: italic\">1</span><span style=\"color: #800000; text-decoration-color: #800000; font-style: italic\"> / </span><span style=\"color: #800000; text-decoration-color: #800000; font-weight: bold; font-style: italic\">4</span><span style=\"color: #800000; text-decoration-color: #800000; font-style: italic\"> langs</span>\n",
              "</pre>\n"
            ]
          },
          "metadata": {}
        },
        {
          "output_type": "display_data",
          "data": {
            "text/plain": [
              "\n",
              "\n"
            ],
            "text/html": [
              "<pre style=\"white-space:pre;overflow-x:auto;line-height:normal;font-family:Menlo,'DejaVu Sans Mono',consolas,'Courier New',monospace\">\n",
              "\n",
              "</pre>\n"
            ]
          },
          "metadata": {}
        },
        {
          "output_type": "stream",
          "name": "stdout",
          "text": [
            "**************************************************\n",
            "Improved performance: 0.6463165754106519 for layer attention.self.key .5.. Total modifications is 1\n",
            "**************************************************\n",
            "Reconstructing layer: auto_model.encoder.layer.5.attention.self.value\n",
            "Reduced from torch.Size([384]) to 75\n"
          ]
        },
        {
          "output_type": "display_data",
          "data": {
            "text/plain": [
              "\u001b[38;5;235m───────────────────────────────────────────────── \u001b[0m\u001b[1mSelected tasks \u001b[0m\u001b[38;5;235m ─────────────────────────────────────────────────\u001b[0m\n"
            ],
            "text/html": [
              "<pre style=\"white-space:pre;overflow-x:auto;line-height:normal;font-family:Menlo,'DejaVu Sans Mono',consolas,'Courier New',monospace\"><span style=\"color: #262626; text-decoration-color: #262626\">───────────────────────────────────────────────── </span><span style=\"font-weight: bold\">Selected tasks </span><span style=\"color: #262626; text-decoration-color: #262626\"> ─────────────────────────────────────────────────</span>\n",
              "</pre>\n"
            ]
          },
          "metadata": {}
        },
        {
          "output_type": "display_data",
          "data": {
            "text/plain": [
              "\u001b[1mClassification\u001b[0m\n"
            ],
            "text/html": [
              "<pre style=\"white-space:pre;overflow-x:auto;line-height:normal;font-family:Menlo,'DejaVu Sans Mono',consolas,'Courier New',monospace\"><span style=\"font-weight: bold\">Classification</span>\n",
              "</pre>\n"
            ]
          },
          "metadata": {}
        },
        {
          "output_type": "display_data",
          "data": {
            "text/plain": [
              "    - AmazonCounterfactualClassification, \u001b[3;38;5;241ms2s\u001b[0m, \u001b[3;31mmultilingual \u001b[0m\u001b[1;3;31m1\u001b[0m\u001b[3;31m \u001b[0m\u001b[3;31m/\u001b[0m\u001b[3;31m \u001b[0m\u001b[1;3;31m4\u001b[0m\u001b[3;31m langs\u001b[0m\n"
            ],
            "text/html": [
              "<pre style=\"white-space:pre;overflow-x:auto;line-height:normal;font-family:Menlo,'DejaVu Sans Mono',consolas,'Courier New',monospace\">    - AmazonCounterfactualClassification, <span style=\"color: #626262; text-decoration-color: #626262; font-style: italic\">s2s</span>, <span style=\"color: #800000; text-decoration-color: #800000; font-style: italic\">multilingual </span><span style=\"color: #800000; text-decoration-color: #800000; font-weight: bold; font-style: italic\">1</span><span style=\"color: #800000; text-decoration-color: #800000; font-style: italic\"> / </span><span style=\"color: #800000; text-decoration-color: #800000; font-weight: bold; font-style: italic\">4</span><span style=\"color: #800000; text-decoration-color: #800000; font-style: italic\"> langs</span>\n",
              "</pre>\n"
            ]
          },
          "metadata": {}
        },
        {
          "output_type": "display_data",
          "data": {
            "text/plain": [
              "\n",
              "\n"
            ],
            "text/html": [
              "<pre style=\"white-space:pre;overflow-x:auto;line-height:normal;font-family:Menlo,'DejaVu Sans Mono',consolas,'Courier New',monospace\">\n",
              "\n",
              "</pre>\n"
            ]
          },
          "metadata": {}
        },
        {
          "output_type": "stream",
          "name": "stdout",
          "text": [
            "**************************************************\n",
            "Improved performance: 0.6508461921353907 for layer attention.self.value .5.. Total modifications is 2\n",
            "**************************************************\n",
            "Reconstructing layer: auto_model.encoder.layer.5.attention.output.dense\n",
            "Reduced from torch.Size([384]) to 104\n"
          ]
        },
        {
          "output_type": "display_data",
          "data": {
            "text/plain": [
              "\u001b[38;5;235m───────────────────────────────────────────────── \u001b[0m\u001b[1mSelected tasks \u001b[0m\u001b[38;5;235m ─────────────────────────────────────────────────\u001b[0m\n"
            ],
            "text/html": [
              "<pre style=\"white-space:pre;overflow-x:auto;line-height:normal;font-family:Menlo,'DejaVu Sans Mono',consolas,'Courier New',monospace\"><span style=\"color: #262626; text-decoration-color: #262626\">───────────────────────────────────────────────── </span><span style=\"font-weight: bold\">Selected tasks </span><span style=\"color: #262626; text-decoration-color: #262626\"> ─────────────────────────────────────────────────</span>\n",
              "</pre>\n"
            ]
          },
          "metadata": {}
        },
        {
          "output_type": "display_data",
          "data": {
            "text/plain": [
              "\u001b[1mClassification\u001b[0m\n"
            ],
            "text/html": [
              "<pre style=\"white-space:pre;overflow-x:auto;line-height:normal;font-family:Menlo,'DejaVu Sans Mono',consolas,'Courier New',monospace\"><span style=\"font-weight: bold\">Classification</span>\n",
              "</pre>\n"
            ]
          },
          "metadata": {}
        },
        {
          "output_type": "display_data",
          "data": {
            "text/plain": [
              "    - AmazonCounterfactualClassification, \u001b[3;38;5;241ms2s\u001b[0m, \u001b[3;31mmultilingual \u001b[0m\u001b[1;3;31m1\u001b[0m\u001b[3;31m \u001b[0m\u001b[3;31m/\u001b[0m\u001b[3;31m \u001b[0m\u001b[1;3;31m4\u001b[0m\u001b[3;31m langs\u001b[0m\n"
            ],
            "text/html": [
              "<pre style=\"white-space:pre;overflow-x:auto;line-height:normal;font-family:Menlo,'DejaVu Sans Mono',consolas,'Courier New',monospace\">    - AmazonCounterfactualClassification, <span style=\"color: #626262; text-decoration-color: #626262; font-style: italic\">s2s</span>, <span style=\"color: #800000; text-decoration-color: #800000; font-style: italic\">multilingual </span><span style=\"color: #800000; text-decoration-color: #800000; font-weight: bold; font-style: italic\">1</span><span style=\"color: #800000; text-decoration-color: #800000; font-style: italic\"> / </span><span style=\"color: #800000; text-decoration-color: #800000; font-weight: bold; font-style: italic\">4</span><span style=\"color: #800000; text-decoration-color: #800000; font-style: italic\"> langs</span>\n",
              "</pre>\n"
            ]
          },
          "metadata": {}
        },
        {
          "output_type": "display_data",
          "data": {
            "text/plain": [
              "\n",
              "\n"
            ],
            "text/html": [
              "<pre style=\"white-space:pre;overflow-x:auto;line-height:normal;font-family:Menlo,'DejaVu Sans Mono',consolas,'Courier New',monospace\">\n",
              "\n",
              "</pre>\n"
            ]
          },
          "metadata": {}
        },
        {
          "output_type": "stream",
          "name": "stdout",
          "text": [
            "**************************************************\n",
            "Improved performance: 0.652190144350423 for layer attention.output.dense .5.. Total modifications is 3\n",
            "**************************************************\n",
            "Reconstructing layer: auto_model.encoder.layer.5.intermediate.dense\n",
            "Reduced from torch.Size([384]) to 295\n"
          ]
        },
        {
          "output_type": "display_data",
          "data": {
            "text/plain": [
              "\u001b[38;5;235m───────────────────────────────────────────────── \u001b[0m\u001b[1mSelected tasks \u001b[0m\u001b[38;5;235m ─────────────────────────────────────────────────\u001b[0m\n"
            ],
            "text/html": [
              "<pre style=\"white-space:pre;overflow-x:auto;line-height:normal;font-family:Menlo,'DejaVu Sans Mono',consolas,'Courier New',monospace\"><span style=\"color: #262626; text-decoration-color: #262626\">───────────────────────────────────────────────── </span><span style=\"font-weight: bold\">Selected tasks </span><span style=\"color: #262626; text-decoration-color: #262626\"> ─────────────────────────────────────────────────</span>\n",
              "</pre>\n"
            ]
          },
          "metadata": {}
        },
        {
          "output_type": "display_data",
          "data": {
            "text/plain": [
              "\u001b[1mClassification\u001b[0m\n"
            ],
            "text/html": [
              "<pre style=\"white-space:pre;overflow-x:auto;line-height:normal;font-family:Menlo,'DejaVu Sans Mono',consolas,'Courier New',monospace\"><span style=\"font-weight: bold\">Classification</span>\n",
              "</pre>\n"
            ]
          },
          "metadata": {}
        },
        {
          "output_type": "display_data",
          "data": {
            "text/plain": [
              "    - AmazonCounterfactualClassification, \u001b[3;38;5;241ms2s\u001b[0m, \u001b[3;31mmultilingual \u001b[0m\u001b[1;3;31m1\u001b[0m\u001b[3;31m \u001b[0m\u001b[3;31m/\u001b[0m\u001b[3;31m \u001b[0m\u001b[1;3;31m4\u001b[0m\u001b[3;31m langs\u001b[0m\n"
            ],
            "text/html": [
              "<pre style=\"white-space:pre;overflow-x:auto;line-height:normal;font-family:Menlo,'DejaVu Sans Mono',consolas,'Courier New',monospace\">    - AmazonCounterfactualClassification, <span style=\"color: #626262; text-decoration-color: #626262; font-style: italic\">s2s</span>, <span style=\"color: #800000; text-decoration-color: #800000; font-style: italic\">multilingual </span><span style=\"color: #800000; text-decoration-color: #800000; font-weight: bold; font-style: italic\">1</span><span style=\"color: #800000; text-decoration-color: #800000; font-style: italic\"> / </span><span style=\"color: #800000; text-decoration-color: #800000; font-weight: bold; font-style: italic\">4</span><span style=\"color: #800000; text-decoration-color: #800000; font-style: italic\"> langs</span>\n",
              "</pre>\n"
            ]
          },
          "metadata": {}
        },
        {
          "output_type": "display_data",
          "data": {
            "text/plain": [
              "\n",
              "\n"
            ],
            "text/html": [
              "<pre style=\"white-space:pre;overflow-x:auto;line-height:normal;font-family:Menlo,'DejaVu Sans Mono',consolas,'Courier New',monospace\">\n",
              "\n",
              "</pre>\n"
            ]
          },
          "metadata": {}
        },
        {
          "output_type": "stream",
          "name": "stdout",
          "text": [
            "Restored original weights for layer: auto_model.encoder.layer.5.intermediate.dense\n",
            "Reconstructing layer: auto_model.encoder.layer.5.attention.output.dense\n",
            "Reduced from torch.Size([384]) to 13\n"
          ]
        },
        {
          "output_type": "display_data",
          "data": {
            "text/plain": [
              "\u001b[38;5;235m───────────────────────────────────────────────── \u001b[0m\u001b[1mSelected tasks \u001b[0m\u001b[38;5;235m ─────────────────────────────────────────────────\u001b[0m\n"
            ],
            "text/html": [
              "<pre style=\"white-space:pre;overflow-x:auto;line-height:normal;font-family:Menlo,'DejaVu Sans Mono',consolas,'Courier New',monospace\"><span style=\"color: #262626; text-decoration-color: #262626\">───────────────────────────────────────────────── </span><span style=\"font-weight: bold\">Selected tasks </span><span style=\"color: #262626; text-decoration-color: #262626\"> ─────────────────────────────────────────────────</span>\n",
              "</pre>\n"
            ]
          },
          "metadata": {}
        },
        {
          "output_type": "display_data",
          "data": {
            "text/plain": [
              "\u001b[1mClassification\u001b[0m\n"
            ],
            "text/html": [
              "<pre style=\"white-space:pre;overflow-x:auto;line-height:normal;font-family:Menlo,'DejaVu Sans Mono',consolas,'Courier New',monospace\"><span style=\"font-weight: bold\">Classification</span>\n",
              "</pre>\n"
            ]
          },
          "metadata": {}
        },
        {
          "output_type": "display_data",
          "data": {
            "text/plain": [
              "    - AmazonCounterfactualClassification, \u001b[3;38;5;241ms2s\u001b[0m, \u001b[3;31mmultilingual \u001b[0m\u001b[1;3;31m1\u001b[0m\u001b[3;31m \u001b[0m\u001b[3;31m/\u001b[0m\u001b[3;31m \u001b[0m\u001b[1;3;31m4\u001b[0m\u001b[3;31m langs\u001b[0m\n"
            ],
            "text/html": [
              "<pre style=\"white-space:pre;overflow-x:auto;line-height:normal;font-family:Menlo,'DejaVu Sans Mono',consolas,'Courier New',monospace\">    - AmazonCounterfactualClassification, <span style=\"color: #626262; text-decoration-color: #626262; font-style: italic\">s2s</span>, <span style=\"color: #800000; text-decoration-color: #800000; font-style: italic\">multilingual </span><span style=\"color: #800000; text-decoration-color: #800000; font-weight: bold; font-style: italic\">1</span><span style=\"color: #800000; text-decoration-color: #800000; font-style: italic\"> / </span><span style=\"color: #800000; text-decoration-color: #800000; font-weight: bold; font-style: italic\">4</span><span style=\"color: #800000; text-decoration-color: #800000; font-style: italic\"> langs</span>\n",
              "</pre>\n"
            ]
          },
          "metadata": {}
        },
        {
          "output_type": "display_data",
          "data": {
            "text/plain": [
              "\n",
              "\n"
            ],
            "text/html": [
              "<pre style=\"white-space:pre;overflow-x:auto;line-height:normal;font-family:Menlo,'DejaVu Sans Mono',consolas,'Courier New',monospace\">\n",
              "\n",
              "</pre>\n"
            ]
          },
          "metadata": {}
        },
        {
          "output_type": "stream",
          "name": "stdout",
          "text": [
            "**************************************************\n",
            "Improved performance: 0.6532603285216526 for layer output.dense .5.. Total modifications is 4\n",
            "**************************************************\n",
            "Reconstructing layer: auto_model.encoder.layer.4.attention.self.query\n",
            "Reduced from torch.Size([384]) to 68\n"
          ]
        },
        {
          "output_type": "display_data",
          "data": {
            "text/plain": [
              "\u001b[38;5;235m───────────────────────────────────────────────── \u001b[0m\u001b[1mSelected tasks \u001b[0m\u001b[38;5;235m ─────────────────────────────────────────────────\u001b[0m\n"
            ],
            "text/html": [
              "<pre style=\"white-space:pre;overflow-x:auto;line-height:normal;font-family:Menlo,'DejaVu Sans Mono',consolas,'Courier New',monospace\"><span style=\"color: #262626; text-decoration-color: #262626\">───────────────────────────────────────────────── </span><span style=\"font-weight: bold\">Selected tasks </span><span style=\"color: #262626; text-decoration-color: #262626\"> ─────────────────────────────────────────────────</span>\n",
              "</pre>\n"
            ]
          },
          "metadata": {}
        },
        {
          "output_type": "display_data",
          "data": {
            "text/plain": [
              "\u001b[1mClassification\u001b[0m\n"
            ],
            "text/html": [
              "<pre style=\"white-space:pre;overflow-x:auto;line-height:normal;font-family:Menlo,'DejaVu Sans Mono',consolas,'Courier New',monospace\"><span style=\"font-weight: bold\">Classification</span>\n",
              "</pre>\n"
            ]
          },
          "metadata": {}
        },
        {
          "output_type": "display_data",
          "data": {
            "text/plain": [
              "    - AmazonCounterfactualClassification, \u001b[3;38;5;241ms2s\u001b[0m, \u001b[3;31mmultilingual \u001b[0m\u001b[1;3;31m1\u001b[0m\u001b[3;31m \u001b[0m\u001b[3;31m/\u001b[0m\u001b[3;31m \u001b[0m\u001b[1;3;31m4\u001b[0m\u001b[3;31m langs\u001b[0m\n"
            ],
            "text/html": [
              "<pre style=\"white-space:pre;overflow-x:auto;line-height:normal;font-family:Menlo,'DejaVu Sans Mono',consolas,'Courier New',monospace\">    - AmazonCounterfactualClassification, <span style=\"color: #626262; text-decoration-color: #626262; font-style: italic\">s2s</span>, <span style=\"color: #800000; text-decoration-color: #800000; font-style: italic\">multilingual </span><span style=\"color: #800000; text-decoration-color: #800000; font-weight: bold; font-style: italic\">1</span><span style=\"color: #800000; text-decoration-color: #800000; font-style: italic\"> / </span><span style=\"color: #800000; text-decoration-color: #800000; font-weight: bold; font-style: italic\">4</span><span style=\"color: #800000; text-decoration-color: #800000; font-style: italic\"> langs</span>\n",
              "</pre>\n"
            ]
          },
          "metadata": {}
        },
        {
          "output_type": "display_data",
          "data": {
            "text/plain": [
              "\n",
              "\n"
            ],
            "text/html": [
              "<pre style=\"white-space:pre;overflow-x:auto;line-height:normal;font-family:Menlo,'DejaVu Sans Mono',consolas,'Courier New',monospace\">\n",
              "\n",
              "</pre>\n"
            ]
          },
          "metadata": {}
        },
        {
          "output_type": "stream",
          "name": "stdout",
          "text": [
            "**************************************************\n",
            "Improved performance: 0.6606520657043304 for layer attention.self.query .4.. Total modifications is 5\n",
            "**************************************************\n",
            "Reconstructing layer: auto_model.encoder.layer.4.attention.self.key\n",
            "Reduced from torch.Size([384]) to 70\n"
          ]
        },
        {
          "output_type": "display_data",
          "data": {
            "text/plain": [
              "\u001b[38;5;235m───────────────────────────────────────────────── \u001b[0m\u001b[1mSelected tasks \u001b[0m\u001b[38;5;235m ─────────────────────────────────────────────────\u001b[0m\n"
            ],
            "text/html": [
              "<pre style=\"white-space:pre;overflow-x:auto;line-height:normal;font-family:Menlo,'DejaVu Sans Mono',consolas,'Courier New',monospace\"><span style=\"color: #262626; text-decoration-color: #262626\">───────────────────────────────────────────────── </span><span style=\"font-weight: bold\">Selected tasks </span><span style=\"color: #262626; text-decoration-color: #262626\"> ─────────────────────────────────────────────────</span>\n",
              "</pre>\n"
            ]
          },
          "metadata": {}
        },
        {
          "output_type": "display_data",
          "data": {
            "text/plain": [
              "\u001b[1mClassification\u001b[0m\n"
            ],
            "text/html": [
              "<pre style=\"white-space:pre;overflow-x:auto;line-height:normal;font-family:Menlo,'DejaVu Sans Mono',consolas,'Courier New',monospace\"><span style=\"font-weight: bold\">Classification</span>\n",
              "</pre>\n"
            ]
          },
          "metadata": {}
        },
        {
          "output_type": "display_data",
          "data": {
            "text/plain": [
              "    - AmazonCounterfactualClassification, \u001b[3;38;5;241ms2s\u001b[0m, \u001b[3;31mmultilingual \u001b[0m\u001b[1;3;31m1\u001b[0m\u001b[3;31m \u001b[0m\u001b[3;31m/\u001b[0m\u001b[3;31m \u001b[0m\u001b[1;3;31m4\u001b[0m\u001b[3;31m langs\u001b[0m\n"
            ],
            "text/html": [
              "<pre style=\"white-space:pre;overflow-x:auto;line-height:normal;font-family:Menlo,'DejaVu Sans Mono',consolas,'Courier New',monospace\">    - AmazonCounterfactualClassification, <span style=\"color: #626262; text-decoration-color: #626262; font-style: italic\">s2s</span>, <span style=\"color: #800000; text-decoration-color: #800000; font-style: italic\">multilingual </span><span style=\"color: #800000; text-decoration-color: #800000; font-weight: bold; font-style: italic\">1</span><span style=\"color: #800000; text-decoration-color: #800000; font-style: italic\"> / </span><span style=\"color: #800000; text-decoration-color: #800000; font-weight: bold; font-style: italic\">4</span><span style=\"color: #800000; text-decoration-color: #800000; font-style: italic\"> langs</span>\n",
              "</pre>\n"
            ]
          },
          "metadata": {}
        },
        {
          "output_type": "display_data",
          "data": {
            "text/plain": [
              "\n",
              "\n"
            ],
            "text/html": [
              "<pre style=\"white-space:pre;overflow-x:auto;line-height:normal;font-family:Menlo,'DejaVu Sans Mono',consolas,'Courier New',monospace\">\n",
              "\n",
              "</pre>\n"
            ]
          },
          "metadata": {}
        },
        {
          "output_type": "stream",
          "name": "stdout",
          "text": [
            "**************************************************\n",
            "Improved performance: 0.6618715778994524 for layer attention.self.key .4.. Total modifications is 6\n",
            "**************************************************\n",
            "Reconstructing layer: auto_model.encoder.layer.4.attention.self.value\n",
            "Reduced from torch.Size([384]) to 75\n"
          ]
        },
        {
          "output_type": "display_data",
          "data": {
            "text/plain": [
              "\u001b[38;5;235m───────────────────────────────────────────────── \u001b[0m\u001b[1mSelected tasks \u001b[0m\u001b[38;5;235m ─────────────────────────────────────────────────\u001b[0m\n"
            ],
            "text/html": [
              "<pre style=\"white-space:pre;overflow-x:auto;line-height:normal;font-family:Menlo,'DejaVu Sans Mono',consolas,'Courier New',monospace\"><span style=\"color: #262626; text-decoration-color: #262626\">───────────────────────────────────────────────── </span><span style=\"font-weight: bold\">Selected tasks </span><span style=\"color: #262626; text-decoration-color: #262626\"> ─────────────────────────────────────────────────</span>\n",
              "</pre>\n"
            ]
          },
          "metadata": {}
        },
        {
          "output_type": "display_data",
          "data": {
            "text/plain": [
              "\u001b[1mClassification\u001b[0m\n"
            ],
            "text/html": [
              "<pre style=\"white-space:pre;overflow-x:auto;line-height:normal;font-family:Menlo,'DejaVu Sans Mono',consolas,'Courier New',monospace\"><span style=\"font-weight: bold\">Classification</span>\n",
              "</pre>\n"
            ]
          },
          "metadata": {}
        },
        {
          "output_type": "display_data",
          "data": {
            "text/plain": [
              "    - AmazonCounterfactualClassification, \u001b[3;38;5;241ms2s\u001b[0m, \u001b[3;31mmultilingual \u001b[0m\u001b[1;3;31m1\u001b[0m\u001b[3;31m \u001b[0m\u001b[3;31m/\u001b[0m\u001b[3;31m \u001b[0m\u001b[1;3;31m4\u001b[0m\u001b[3;31m langs\u001b[0m\n"
            ],
            "text/html": [
              "<pre style=\"white-space:pre;overflow-x:auto;line-height:normal;font-family:Menlo,'DejaVu Sans Mono',consolas,'Courier New',monospace\">    - AmazonCounterfactualClassification, <span style=\"color: #626262; text-decoration-color: #626262; font-style: italic\">s2s</span>, <span style=\"color: #800000; text-decoration-color: #800000; font-style: italic\">multilingual </span><span style=\"color: #800000; text-decoration-color: #800000; font-weight: bold; font-style: italic\">1</span><span style=\"color: #800000; text-decoration-color: #800000; font-style: italic\"> / </span><span style=\"color: #800000; text-decoration-color: #800000; font-weight: bold; font-style: italic\">4</span><span style=\"color: #800000; text-decoration-color: #800000; font-style: italic\"> langs</span>\n",
              "</pre>\n"
            ]
          },
          "metadata": {}
        },
        {
          "output_type": "display_data",
          "data": {
            "text/plain": [
              "\n",
              "\n"
            ],
            "text/html": [
              "<pre style=\"white-space:pre;overflow-x:auto;line-height:normal;font-family:Menlo,'DejaVu Sans Mono',consolas,'Courier New',monospace\">\n",
              "\n",
              "</pre>\n"
            ]
          },
          "metadata": {}
        },
        {
          "output_type": "stream",
          "name": "stdout",
          "text": [
            "**************************************************\n",
            "Improved performance: 0.6630662020905924 for layer attention.self.value .4.. Total modifications is 7\n",
            "**************************************************\n",
            "Reconstructing layer: auto_model.encoder.layer.4.attention.output.dense\n",
            "Reduced from torch.Size([384]) to 71\n"
          ]
        },
        {
          "output_type": "display_data",
          "data": {
            "text/plain": [
              "\u001b[38;5;235m───────────────────────────────────────────────── \u001b[0m\u001b[1mSelected tasks \u001b[0m\u001b[38;5;235m ─────────────────────────────────────────────────\u001b[0m\n"
            ],
            "text/html": [
              "<pre style=\"white-space:pre;overflow-x:auto;line-height:normal;font-family:Menlo,'DejaVu Sans Mono',consolas,'Courier New',monospace\"><span style=\"color: #262626; text-decoration-color: #262626\">───────────────────────────────────────────────── </span><span style=\"font-weight: bold\">Selected tasks </span><span style=\"color: #262626; text-decoration-color: #262626\"> ─────────────────────────────────────────────────</span>\n",
              "</pre>\n"
            ]
          },
          "metadata": {}
        },
        {
          "output_type": "display_data",
          "data": {
            "text/plain": [
              "\u001b[1mClassification\u001b[0m\n"
            ],
            "text/html": [
              "<pre style=\"white-space:pre;overflow-x:auto;line-height:normal;font-family:Menlo,'DejaVu Sans Mono',consolas,'Courier New',monospace\"><span style=\"font-weight: bold\">Classification</span>\n",
              "</pre>\n"
            ]
          },
          "metadata": {}
        },
        {
          "output_type": "display_data",
          "data": {
            "text/plain": [
              "    - AmazonCounterfactualClassification, \u001b[3;38;5;241ms2s\u001b[0m, \u001b[3;31mmultilingual \u001b[0m\u001b[1;3;31m1\u001b[0m\u001b[3;31m \u001b[0m\u001b[3;31m/\u001b[0m\u001b[3;31m \u001b[0m\u001b[1;3;31m4\u001b[0m\u001b[3;31m langs\u001b[0m\n"
            ],
            "text/html": [
              "<pre style=\"white-space:pre;overflow-x:auto;line-height:normal;font-family:Menlo,'DejaVu Sans Mono',consolas,'Courier New',monospace\">    - AmazonCounterfactualClassification, <span style=\"color: #626262; text-decoration-color: #626262; font-style: italic\">s2s</span>, <span style=\"color: #800000; text-decoration-color: #800000; font-style: italic\">multilingual </span><span style=\"color: #800000; text-decoration-color: #800000; font-weight: bold; font-style: italic\">1</span><span style=\"color: #800000; text-decoration-color: #800000; font-style: italic\"> / </span><span style=\"color: #800000; text-decoration-color: #800000; font-weight: bold; font-style: italic\">4</span><span style=\"color: #800000; text-decoration-color: #800000; font-style: italic\"> langs</span>\n",
              "</pre>\n"
            ]
          },
          "metadata": {}
        },
        {
          "output_type": "display_data",
          "data": {
            "text/plain": [
              "\n",
              "\n"
            ],
            "text/html": [
              "<pre style=\"white-space:pre;overflow-x:auto;line-height:normal;font-family:Menlo,'DejaVu Sans Mono',consolas,'Courier New',monospace\">\n",
              "\n",
              "</pre>\n"
            ]
          },
          "metadata": {}
        },
        {
          "output_type": "stream",
          "name": "stdout",
          "text": [
            "**************************************************\n",
            "Improved performance: 0.6634892981582877 for layer attention.output.dense .4.. Total modifications is 8\n",
            "**************************************************\n",
            "Reconstructing layer: auto_model.encoder.layer.4.intermediate.dense\n",
            "Reduced from torch.Size([384]) to 327\n"
          ]
        },
        {
          "output_type": "display_data",
          "data": {
            "text/plain": [
              "\u001b[38;5;235m───────────────────────────────────────────────── \u001b[0m\u001b[1mSelected tasks \u001b[0m\u001b[38;5;235m ─────────────────────────────────────────────────\u001b[0m\n"
            ],
            "text/html": [
              "<pre style=\"white-space:pre;overflow-x:auto;line-height:normal;font-family:Menlo,'DejaVu Sans Mono',consolas,'Courier New',monospace\"><span style=\"color: #262626; text-decoration-color: #262626\">───────────────────────────────────────────────── </span><span style=\"font-weight: bold\">Selected tasks </span><span style=\"color: #262626; text-decoration-color: #262626\"> ─────────────────────────────────────────────────</span>\n",
              "</pre>\n"
            ]
          },
          "metadata": {}
        },
        {
          "output_type": "display_data",
          "data": {
            "text/plain": [
              "\u001b[1mClassification\u001b[0m\n"
            ],
            "text/html": [
              "<pre style=\"white-space:pre;overflow-x:auto;line-height:normal;font-family:Menlo,'DejaVu Sans Mono',consolas,'Courier New',monospace\"><span style=\"font-weight: bold\">Classification</span>\n",
              "</pre>\n"
            ]
          },
          "metadata": {}
        },
        {
          "output_type": "display_data",
          "data": {
            "text/plain": [
              "    - AmazonCounterfactualClassification, \u001b[3;38;5;241ms2s\u001b[0m, \u001b[3;31mmultilingual \u001b[0m\u001b[1;3;31m1\u001b[0m\u001b[3;31m \u001b[0m\u001b[3;31m/\u001b[0m\u001b[3;31m \u001b[0m\u001b[1;3;31m4\u001b[0m\u001b[3;31m langs\u001b[0m\n"
            ],
            "text/html": [
              "<pre style=\"white-space:pre;overflow-x:auto;line-height:normal;font-family:Menlo,'DejaVu Sans Mono',consolas,'Courier New',monospace\">    - AmazonCounterfactualClassification, <span style=\"color: #626262; text-decoration-color: #626262; font-style: italic\">s2s</span>, <span style=\"color: #800000; text-decoration-color: #800000; font-style: italic\">multilingual </span><span style=\"color: #800000; text-decoration-color: #800000; font-weight: bold; font-style: italic\">1</span><span style=\"color: #800000; text-decoration-color: #800000; font-style: italic\"> / </span><span style=\"color: #800000; text-decoration-color: #800000; font-weight: bold; font-style: italic\">4</span><span style=\"color: #800000; text-decoration-color: #800000; font-style: italic\"> langs</span>\n",
              "</pre>\n"
            ]
          },
          "metadata": {}
        },
        {
          "output_type": "display_data",
          "data": {
            "text/plain": [
              "\n",
              "\n"
            ],
            "text/html": [
              "<pre style=\"white-space:pre;overflow-x:auto;line-height:normal;font-family:Menlo,'DejaVu Sans Mono',consolas,'Courier New',monospace\">\n",
              "\n",
              "</pre>\n"
            ]
          },
          "metadata": {}
        },
        {
          "output_type": "stream",
          "name": "stdout",
          "text": [
            "**************************************************\n",
            "Improved performance: 0.6684917869586859 for layer intermediate.dense .4.. Total modifications is 9\n",
            "**************************************************\n",
            "Reconstructing layer: auto_model.encoder.layer.4.attention.output.dense\n",
            "Reduced from torch.Size([384]) to 79\n"
          ]
        },
        {
          "output_type": "display_data",
          "data": {
            "text/plain": [
              "\u001b[38;5;235m───────────────────────────────────────────────── \u001b[0m\u001b[1mSelected tasks \u001b[0m\u001b[38;5;235m ─────────────────────────────────────────────────\u001b[0m\n"
            ],
            "text/html": [
              "<pre style=\"white-space:pre;overflow-x:auto;line-height:normal;font-family:Menlo,'DejaVu Sans Mono',consolas,'Courier New',monospace\"><span style=\"color: #262626; text-decoration-color: #262626\">───────────────────────────────────────────────── </span><span style=\"font-weight: bold\">Selected tasks </span><span style=\"color: #262626; text-decoration-color: #262626\"> ─────────────────────────────────────────────────</span>\n",
              "</pre>\n"
            ]
          },
          "metadata": {}
        },
        {
          "output_type": "display_data",
          "data": {
            "text/plain": [
              "\u001b[1mClassification\u001b[0m\n"
            ],
            "text/html": [
              "<pre style=\"white-space:pre;overflow-x:auto;line-height:normal;font-family:Menlo,'DejaVu Sans Mono',consolas,'Courier New',monospace\"><span style=\"font-weight: bold\">Classification</span>\n",
              "</pre>\n"
            ]
          },
          "metadata": {}
        },
        {
          "output_type": "display_data",
          "data": {
            "text/plain": [
              "    - AmazonCounterfactualClassification, \u001b[3;38;5;241ms2s\u001b[0m, \u001b[3;31mmultilingual \u001b[0m\u001b[1;3;31m1\u001b[0m\u001b[3;31m \u001b[0m\u001b[3;31m/\u001b[0m\u001b[3;31m \u001b[0m\u001b[1;3;31m4\u001b[0m\u001b[3;31m langs\u001b[0m\n"
            ],
            "text/html": [
              "<pre style=\"white-space:pre;overflow-x:auto;line-height:normal;font-family:Menlo,'DejaVu Sans Mono',consolas,'Courier New',monospace\">    - AmazonCounterfactualClassification, <span style=\"color: #626262; text-decoration-color: #626262; font-style: italic\">s2s</span>, <span style=\"color: #800000; text-decoration-color: #800000; font-style: italic\">multilingual </span><span style=\"color: #800000; text-decoration-color: #800000; font-weight: bold; font-style: italic\">1</span><span style=\"color: #800000; text-decoration-color: #800000; font-style: italic\"> / </span><span style=\"color: #800000; text-decoration-color: #800000; font-weight: bold; font-style: italic\">4</span><span style=\"color: #800000; text-decoration-color: #800000; font-style: italic\"> langs</span>\n",
              "</pre>\n"
            ]
          },
          "metadata": {}
        },
        {
          "output_type": "display_data",
          "data": {
            "text/plain": [
              "\n",
              "\n"
            ],
            "text/html": [
              "<pre style=\"white-space:pre;overflow-x:auto;line-height:normal;font-family:Menlo,'DejaVu Sans Mono',consolas,'Courier New',monospace\">\n",
              "\n",
              "</pre>\n"
            ]
          },
          "metadata": {}
        },
        {
          "output_type": "stream",
          "name": "stdout",
          "text": [
            "Restored original weights for layer: auto_model.encoder.layer.4.attention.output.dense\n",
            "No original weights saved for layer: auto_model.encoder.layer.4.output.dense\n",
            "Reconstructing layer: auto_model.encoder.layer.3.attention.self.query\n",
            "Reduced from torch.Size([384]) to 69\n"
          ]
        },
        {
          "output_type": "display_data",
          "data": {
            "text/plain": [
              "\u001b[38;5;235m───────────────────────────────────────────────── \u001b[0m\u001b[1mSelected tasks \u001b[0m\u001b[38;5;235m ─────────────────────────────────────────────────\u001b[0m\n"
            ],
            "text/html": [
              "<pre style=\"white-space:pre;overflow-x:auto;line-height:normal;font-family:Menlo,'DejaVu Sans Mono',consolas,'Courier New',monospace\"><span style=\"color: #262626; text-decoration-color: #262626\">───────────────────────────────────────────────── </span><span style=\"font-weight: bold\">Selected tasks </span><span style=\"color: #262626; text-decoration-color: #262626\"> ─────────────────────────────────────────────────</span>\n",
              "</pre>\n"
            ]
          },
          "metadata": {}
        },
        {
          "output_type": "display_data",
          "data": {
            "text/plain": [
              "\u001b[1mClassification\u001b[0m\n"
            ],
            "text/html": [
              "<pre style=\"white-space:pre;overflow-x:auto;line-height:normal;font-family:Menlo,'DejaVu Sans Mono',consolas,'Courier New',monospace\"><span style=\"font-weight: bold\">Classification</span>\n",
              "</pre>\n"
            ]
          },
          "metadata": {}
        },
        {
          "output_type": "display_data",
          "data": {
            "text/plain": [
              "    - AmazonCounterfactualClassification, \u001b[3;38;5;241ms2s\u001b[0m, \u001b[3;31mmultilingual \u001b[0m\u001b[1;3;31m1\u001b[0m\u001b[3;31m \u001b[0m\u001b[3;31m/\u001b[0m\u001b[3;31m \u001b[0m\u001b[1;3;31m4\u001b[0m\u001b[3;31m langs\u001b[0m\n"
            ],
            "text/html": [
              "<pre style=\"white-space:pre;overflow-x:auto;line-height:normal;font-family:Menlo,'DejaVu Sans Mono',consolas,'Courier New',monospace\">    - AmazonCounterfactualClassification, <span style=\"color: #626262; text-decoration-color: #626262; font-style: italic\">s2s</span>, <span style=\"color: #800000; text-decoration-color: #800000; font-style: italic\">multilingual </span><span style=\"color: #800000; text-decoration-color: #800000; font-weight: bold; font-style: italic\">1</span><span style=\"color: #800000; text-decoration-color: #800000; font-style: italic\"> / </span><span style=\"color: #800000; text-decoration-color: #800000; font-weight: bold; font-style: italic\">4</span><span style=\"color: #800000; text-decoration-color: #800000; font-style: italic\"> langs</span>\n",
              "</pre>\n"
            ]
          },
          "metadata": {}
        },
        {
          "output_type": "display_data",
          "data": {
            "text/plain": [
              "\n",
              "\n"
            ],
            "text/html": [
              "<pre style=\"white-space:pre;overflow-x:auto;line-height:normal;font-family:Menlo,'DejaVu Sans Mono',consolas,'Courier New',monospace\">\n",
              "\n",
              "</pre>\n"
            ]
          },
          "metadata": {}
        },
        {
          "output_type": "stream",
          "name": "stdout",
          "text": [
            "Restored original weights for layer: auto_model.encoder.layer.3.attention.self.query\n",
            "Reconstructing layer: auto_model.encoder.layer.3.attention.self.key\n",
            "Reduced from torch.Size([384]) to 69\n"
          ]
        },
        {
          "output_type": "display_data",
          "data": {
            "text/plain": [
              "\u001b[38;5;235m───────────────────────────────────────────────── \u001b[0m\u001b[1mSelected tasks \u001b[0m\u001b[38;5;235m ─────────────────────────────────────────────────\u001b[0m\n"
            ],
            "text/html": [
              "<pre style=\"white-space:pre;overflow-x:auto;line-height:normal;font-family:Menlo,'DejaVu Sans Mono',consolas,'Courier New',monospace\"><span style=\"color: #262626; text-decoration-color: #262626\">───────────────────────────────────────────────── </span><span style=\"font-weight: bold\">Selected tasks </span><span style=\"color: #262626; text-decoration-color: #262626\"> ─────────────────────────────────────────────────</span>\n",
              "</pre>\n"
            ]
          },
          "metadata": {}
        },
        {
          "output_type": "display_data",
          "data": {
            "text/plain": [
              "\u001b[1mClassification\u001b[0m\n"
            ],
            "text/html": [
              "<pre style=\"white-space:pre;overflow-x:auto;line-height:normal;font-family:Menlo,'DejaVu Sans Mono',consolas,'Courier New',monospace\"><span style=\"font-weight: bold\">Classification</span>\n",
              "</pre>\n"
            ]
          },
          "metadata": {}
        },
        {
          "output_type": "display_data",
          "data": {
            "text/plain": [
              "    - AmazonCounterfactualClassification, \u001b[3;38;5;241ms2s\u001b[0m, \u001b[3;31mmultilingual \u001b[0m\u001b[1;3;31m1\u001b[0m\u001b[3;31m \u001b[0m\u001b[3;31m/\u001b[0m\u001b[3;31m \u001b[0m\u001b[1;3;31m4\u001b[0m\u001b[3;31m langs\u001b[0m\n"
            ],
            "text/html": [
              "<pre style=\"white-space:pre;overflow-x:auto;line-height:normal;font-family:Menlo,'DejaVu Sans Mono',consolas,'Courier New',monospace\">    - AmazonCounterfactualClassification, <span style=\"color: #626262; text-decoration-color: #626262; font-style: italic\">s2s</span>, <span style=\"color: #800000; text-decoration-color: #800000; font-style: italic\">multilingual </span><span style=\"color: #800000; text-decoration-color: #800000; font-weight: bold; font-style: italic\">1</span><span style=\"color: #800000; text-decoration-color: #800000; font-style: italic\"> / </span><span style=\"color: #800000; text-decoration-color: #800000; font-weight: bold; font-style: italic\">4</span><span style=\"color: #800000; text-decoration-color: #800000; font-style: italic\"> langs</span>\n",
              "</pre>\n"
            ]
          },
          "metadata": {}
        },
        {
          "output_type": "display_data",
          "data": {
            "text/plain": [
              "\n",
              "\n"
            ],
            "text/html": [
              "<pre style=\"white-space:pre;overflow-x:auto;line-height:normal;font-family:Menlo,'DejaVu Sans Mono',consolas,'Courier New',monospace\">\n",
              "\n",
              "</pre>\n"
            ]
          },
          "metadata": {}
        },
        {
          "output_type": "stream",
          "name": "stdout",
          "text": [
            "Restored original weights for layer: auto_model.encoder.layer.3.attention.self.key\n",
            "Reconstructing layer: auto_model.encoder.layer.3.attention.self.value\n",
            "Reduced from torch.Size([384]) to 74\n"
          ]
        },
        {
          "output_type": "display_data",
          "data": {
            "text/plain": [
              "\u001b[38;5;235m───────────────────────────────────────────────── \u001b[0m\u001b[1mSelected tasks \u001b[0m\u001b[38;5;235m ─────────────────────────────────────────────────\u001b[0m\n"
            ],
            "text/html": [
              "<pre style=\"white-space:pre;overflow-x:auto;line-height:normal;font-family:Menlo,'DejaVu Sans Mono',consolas,'Courier New',monospace\"><span style=\"color: #262626; text-decoration-color: #262626\">───────────────────────────────────────────────── </span><span style=\"font-weight: bold\">Selected tasks </span><span style=\"color: #262626; text-decoration-color: #262626\"> ─────────────────────────────────────────────────</span>\n",
              "</pre>\n"
            ]
          },
          "metadata": {}
        },
        {
          "output_type": "display_data",
          "data": {
            "text/plain": [
              "\u001b[1mClassification\u001b[0m\n"
            ],
            "text/html": [
              "<pre style=\"white-space:pre;overflow-x:auto;line-height:normal;font-family:Menlo,'DejaVu Sans Mono',consolas,'Courier New',monospace\"><span style=\"font-weight: bold\">Classification</span>\n",
              "</pre>\n"
            ]
          },
          "metadata": {}
        },
        {
          "output_type": "display_data",
          "data": {
            "text/plain": [
              "    - AmazonCounterfactualClassification, \u001b[3;38;5;241ms2s\u001b[0m, \u001b[3;31mmultilingual \u001b[0m\u001b[1;3;31m1\u001b[0m\u001b[3;31m \u001b[0m\u001b[3;31m/\u001b[0m\u001b[3;31m \u001b[0m\u001b[1;3;31m4\u001b[0m\u001b[3;31m langs\u001b[0m\n"
            ],
            "text/html": [
              "<pre style=\"white-space:pre;overflow-x:auto;line-height:normal;font-family:Menlo,'DejaVu Sans Mono',consolas,'Courier New',monospace\">    - AmazonCounterfactualClassification, <span style=\"color: #626262; text-decoration-color: #626262; font-style: italic\">s2s</span>, <span style=\"color: #800000; text-decoration-color: #800000; font-style: italic\">multilingual </span><span style=\"color: #800000; text-decoration-color: #800000; font-weight: bold; font-style: italic\">1</span><span style=\"color: #800000; text-decoration-color: #800000; font-style: italic\"> / </span><span style=\"color: #800000; text-decoration-color: #800000; font-weight: bold; font-style: italic\">4</span><span style=\"color: #800000; text-decoration-color: #800000; font-style: italic\"> langs</span>\n",
              "</pre>\n"
            ]
          },
          "metadata": {}
        },
        {
          "output_type": "display_data",
          "data": {
            "text/plain": [
              "\n",
              "\n"
            ],
            "text/html": [
              "<pre style=\"white-space:pre;overflow-x:auto;line-height:normal;font-family:Menlo,'DejaVu Sans Mono',consolas,'Courier New',monospace\">\n",
              "\n",
              "</pre>\n"
            ]
          },
          "metadata": {}
        },
        {
          "output_type": "stream",
          "name": "stdout",
          "text": [
            "**************************************************\n",
            "Improved performance: 0.6816824290691886 for layer attention.self.value .3.. Total modifications is 10\n",
            "**************************************************\n",
            "Reconstructing layer: auto_model.encoder.layer.3.attention.output.dense\n",
            "Reduced from torch.Size([384]) to 65\n"
          ]
        },
        {
          "output_type": "display_data",
          "data": {
            "text/plain": [
              "\u001b[38;5;235m───────────────────────────────────────────────── \u001b[0m\u001b[1mSelected tasks \u001b[0m\u001b[38;5;235m ─────────────────────────────────────────────────\u001b[0m\n"
            ],
            "text/html": [
              "<pre style=\"white-space:pre;overflow-x:auto;line-height:normal;font-family:Menlo,'DejaVu Sans Mono',consolas,'Courier New',monospace\"><span style=\"color: #262626; text-decoration-color: #262626\">───────────────────────────────────────────────── </span><span style=\"font-weight: bold\">Selected tasks </span><span style=\"color: #262626; text-decoration-color: #262626\"> ─────────────────────────────────────────────────</span>\n",
              "</pre>\n"
            ]
          },
          "metadata": {}
        },
        {
          "output_type": "display_data",
          "data": {
            "text/plain": [
              "\u001b[1mClassification\u001b[0m\n"
            ],
            "text/html": [
              "<pre style=\"white-space:pre;overflow-x:auto;line-height:normal;font-family:Menlo,'DejaVu Sans Mono',consolas,'Courier New',monospace\"><span style=\"font-weight: bold\">Classification</span>\n",
              "</pre>\n"
            ]
          },
          "metadata": {}
        },
        {
          "output_type": "display_data",
          "data": {
            "text/plain": [
              "    - AmazonCounterfactualClassification, \u001b[3;38;5;241ms2s\u001b[0m, \u001b[3;31mmultilingual \u001b[0m\u001b[1;3;31m1\u001b[0m\u001b[3;31m \u001b[0m\u001b[3;31m/\u001b[0m\u001b[3;31m \u001b[0m\u001b[1;3;31m4\u001b[0m\u001b[3;31m langs\u001b[0m\n"
            ],
            "text/html": [
              "<pre style=\"white-space:pre;overflow-x:auto;line-height:normal;font-family:Menlo,'DejaVu Sans Mono',consolas,'Courier New',monospace\">    - AmazonCounterfactualClassification, <span style=\"color: #626262; text-decoration-color: #626262; font-style: italic\">s2s</span>, <span style=\"color: #800000; text-decoration-color: #800000; font-style: italic\">multilingual </span><span style=\"color: #800000; text-decoration-color: #800000; font-weight: bold; font-style: italic\">1</span><span style=\"color: #800000; text-decoration-color: #800000; font-style: italic\"> / </span><span style=\"color: #800000; text-decoration-color: #800000; font-weight: bold; font-style: italic\">4</span><span style=\"color: #800000; text-decoration-color: #800000; font-style: italic\"> langs</span>\n",
              "</pre>\n"
            ]
          },
          "metadata": {}
        },
        {
          "output_type": "display_data",
          "data": {
            "text/plain": [
              "\n",
              "\n"
            ],
            "text/html": [
              "<pre style=\"white-space:pre;overflow-x:auto;line-height:normal;font-family:Menlo,'DejaVu Sans Mono',consolas,'Courier New',monospace\">\n",
              "\n",
              "</pre>\n"
            ]
          },
          "metadata": {}
        },
        {
          "output_type": "stream",
          "name": "stdout",
          "text": [
            "**************************************************\n",
            "Improved performance: 0.6824041811846691 for layer attention.output.dense .3.. Total modifications is 11\n",
            "**************************************************\n",
            "Reconstructing layer: auto_model.encoder.layer.3.intermediate.dense\n",
            "Reduced from torch.Size([384]) to 280\n"
          ]
        },
        {
          "output_type": "display_data",
          "data": {
            "text/plain": [
              "\u001b[38;5;235m───────────────────────────────────────────────── \u001b[0m\u001b[1mSelected tasks \u001b[0m\u001b[38;5;235m ─────────────────────────────────────────────────\u001b[0m\n"
            ],
            "text/html": [
              "<pre style=\"white-space:pre;overflow-x:auto;line-height:normal;font-family:Menlo,'DejaVu Sans Mono',consolas,'Courier New',monospace\"><span style=\"color: #262626; text-decoration-color: #262626\">───────────────────────────────────────────────── </span><span style=\"font-weight: bold\">Selected tasks </span><span style=\"color: #262626; text-decoration-color: #262626\"> ─────────────────────────────────────────────────</span>\n",
              "</pre>\n"
            ]
          },
          "metadata": {}
        },
        {
          "output_type": "display_data",
          "data": {
            "text/plain": [
              "\u001b[1mClassification\u001b[0m\n"
            ],
            "text/html": [
              "<pre style=\"white-space:pre;overflow-x:auto;line-height:normal;font-family:Menlo,'DejaVu Sans Mono',consolas,'Courier New',monospace\"><span style=\"font-weight: bold\">Classification</span>\n",
              "</pre>\n"
            ]
          },
          "metadata": {}
        },
        {
          "output_type": "display_data",
          "data": {
            "text/plain": [
              "    - AmazonCounterfactualClassification, \u001b[3;38;5;241ms2s\u001b[0m, \u001b[3;31mmultilingual \u001b[0m\u001b[1;3;31m1\u001b[0m\u001b[3;31m \u001b[0m\u001b[3;31m/\u001b[0m\u001b[3;31m \u001b[0m\u001b[1;3;31m4\u001b[0m\u001b[3;31m langs\u001b[0m\n"
            ],
            "text/html": [
              "<pre style=\"white-space:pre;overflow-x:auto;line-height:normal;font-family:Menlo,'DejaVu Sans Mono',consolas,'Courier New',monospace\">    - AmazonCounterfactualClassification, <span style=\"color: #626262; text-decoration-color: #626262; font-style: italic\">s2s</span>, <span style=\"color: #800000; text-decoration-color: #800000; font-style: italic\">multilingual </span><span style=\"color: #800000; text-decoration-color: #800000; font-weight: bold; font-style: italic\">1</span><span style=\"color: #800000; text-decoration-color: #800000; font-style: italic\"> / </span><span style=\"color: #800000; text-decoration-color: #800000; font-weight: bold; font-style: italic\">4</span><span style=\"color: #800000; text-decoration-color: #800000; font-style: italic\"> langs</span>\n",
              "</pre>\n"
            ]
          },
          "metadata": {}
        },
        {
          "output_type": "display_data",
          "data": {
            "text/plain": [
              "\n",
              "\n"
            ],
            "text/html": [
              "<pre style=\"white-space:pre;overflow-x:auto;line-height:normal;font-family:Menlo,'DejaVu Sans Mono',consolas,'Courier New',monospace\">\n",
              "\n",
              "</pre>\n"
            ]
          },
          "metadata": {}
        },
        {
          "output_type": "stream",
          "name": "stdout",
          "text": [
            "Restored original weights for layer: auto_model.encoder.layer.3.intermediate.dense\n",
            "Reconstructing layer: auto_model.encoder.layer.3.attention.output.dense\n",
            "Reduced from torch.Size([384]) to 75\n"
          ]
        },
        {
          "output_type": "display_data",
          "data": {
            "text/plain": [
              "\u001b[38;5;235m───────────────────────────────────────────────── \u001b[0m\u001b[1mSelected tasks \u001b[0m\u001b[38;5;235m ─────────────────────────────────────────────────\u001b[0m\n"
            ],
            "text/html": [
              "<pre style=\"white-space:pre;overflow-x:auto;line-height:normal;font-family:Menlo,'DejaVu Sans Mono',consolas,'Courier New',monospace\"><span style=\"color: #262626; text-decoration-color: #262626\">───────────────────────────────────────────────── </span><span style=\"font-weight: bold\">Selected tasks </span><span style=\"color: #262626; text-decoration-color: #262626\"> ─────────────────────────────────────────────────</span>\n",
              "</pre>\n"
            ]
          },
          "metadata": {}
        },
        {
          "output_type": "display_data",
          "data": {
            "text/plain": [
              "\u001b[1mClassification\u001b[0m\n"
            ],
            "text/html": [
              "<pre style=\"white-space:pre;overflow-x:auto;line-height:normal;font-family:Menlo,'DejaVu Sans Mono',consolas,'Courier New',monospace\"><span style=\"font-weight: bold\">Classification</span>\n",
              "</pre>\n"
            ]
          },
          "metadata": {}
        },
        {
          "output_type": "display_data",
          "data": {
            "text/plain": [
              "    - AmazonCounterfactualClassification, \u001b[3;38;5;241ms2s\u001b[0m, \u001b[3;31mmultilingual \u001b[0m\u001b[1;3;31m1\u001b[0m\u001b[3;31m \u001b[0m\u001b[3;31m/\u001b[0m\u001b[3;31m \u001b[0m\u001b[1;3;31m4\u001b[0m\u001b[3;31m langs\u001b[0m\n"
            ],
            "text/html": [
              "<pre style=\"white-space:pre;overflow-x:auto;line-height:normal;font-family:Menlo,'DejaVu Sans Mono',consolas,'Courier New',monospace\">    - AmazonCounterfactualClassification, <span style=\"color: #626262; text-decoration-color: #626262; font-style: italic\">s2s</span>, <span style=\"color: #800000; text-decoration-color: #800000; font-style: italic\">multilingual </span><span style=\"color: #800000; text-decoration-color: #800000; font-weight: bold; font-style: italic\">1</span><span style=\"color: #800000; text-decoration-color: #800000; font-style: italic\"> / </span><span style=\"color: #800000; text-decoration-color: #800000; font-weight: bold; font-style: italic\">4</span><span style=\"color: #800000; text-decoration-color: #800000; font-style: italic\"> langs</span>\n",
              "</pre>\n"
            ]
          },
          "metadata": {}
        },
        {
          "output_type": "display_data",
          "data": {
            "text/plain": [
              "\n",
              "\n"
            ],
            "text/html": [
              "<pre style=\"white-space:pre;overflow-x:auto;line-height:normal;font-family:Menlo,'DejaVu Sans Mono',consolas,'Courier New',monospace\">\n",
              "\n",
              "</pre>\n"
            ]
          },
          "metadata": {}
        },
        {
          "output_type": "stream",
          "name": "stdout",
          "text": [
            "Restored original weights for layer: auto_model.encoder.layer.3.attention.output.dense\n",
            "No original weights saved for layer: auto_model.encoder.layer.3.output.dense\n",
            "Reconstructing layer: auto_model.encoder.layer.2.attention.self.query\n",
            "Reduced from torch.Size([384]) to 67\n"
          ]
        },
        {
          "output_type": "display_data",
          "data": {
            "text/plain": [
              "\u001b[38;5;235m───────────────────────────────────────────────── \u001b[0m\u001b[1mSelected tasks \u001b[0m\u001b[38;5;235m ─────────────────────────────────────────────────\u001b[0m\n"
            ],
            "text/html": [
              "<pre style=\"white-space:pre;overflow-x:auto;line-height:normal;font-family:Menlo,'DejaVu Sans Mono',consolas,'Courier New',monospace\"><span style=\"color: #262626; text-decoration-color: #262626\">───────────────────────────────────────────────── </span><span style=\"font-weight: bold\">Selected tasks </span><span style=\"color: #262626; text-decoration-color: #262626\"> ─────────────────────────────────────────────────</span>\n",
              "</pre>\n"
            ]
          },
          "metadata": {}
        },
        {
          "output_type": "display_data",
          "data": {
            "text/plain": [
              "\u001b[1mClassification\u001b[0m\n"
            ],
            "text/html": [
              "<pre style=\"white-space:pre;overflow-x:auto;line-height:normal;font-family:Menlo,'DejaVu Sans Mono',consolas,'Courier New',monospace\"><span style=\"font-weight: bold\">Classification</span>\n",
              "</pre>\n"
            ]
          },
          "metadata": {}
        },
        {
          "output_type": "display_data",
          "data": {
            "text/plain": [
              "    - AmazonCounterfactualClassification, \u001b[3;38;5;241ms2s\u001b[0m, \u001b[3;31mmultilingual \u001b[0m\u001b[1;3;31m1\u001b[0m\u001b[3;31m \u001b[0m\u001b[3;31m/\u001b[0m\u001b[3;31m \u001b[0m\u001b[1;3;31m4\u001b[0m\u001b[3;31m langs\u001b[0m\n"
            ],
            "text/html": [
              "<pre style=\"white-space:pre;overflow-x:auto;line-height:normal;font-family:Menlo,'DejaVu Sans Mono',consolas,'Courier New',monospace\">    - AmazonCounterfactualClassification, <span style=\"color: #626262; text-decoration-color: #626262; font-style: italic\">s2s</span>, <span style=\"color: #800000; text-decoration-color: #800000; font-style: italic\">multilingual </span><span style=\"color: #800000; text-decoration-color: #800000; font-weight: bold; font-style: italic\">1</span><span style=\"color: #800000; text-decoration-color: #800000; font-style: italic\"> / </span><span style=\"color: #800000; text-decoration-color: #800000; font-weight: bold; font-style: italic\">4</span><span style=\"color: #800000; text-decoration-color: #800000; font-style: italic\"> langs</span>\n",
              "</pre>\n"
            ]
          },
          "metadata": {}
        },
        {
          "output_type": "display_data",
          "data": {
            "text/plain": [
              "\n",
              "\n"
            ],
            "text/html": [
              "<pre style=\"white-space:pre;overflow-x:auto;line-height:normal;font-family:Menlo,'DejaVu Sans Mono',consolas,'Courier New',monospace\">\n",
              "\n",
              "</pre>\n"
            ]
          },
          "metadata": {}
        },
        {
          "output_type": "stream",
          "name": "stdout",
          "text": [
            "Restored original weights for layer: auto_model.encoder.layer.2.attention.self.query\n",
            "Reconstructing layer: auto_model.encoder.layer.2.attention.self.key\n",
            "Reduced from torch.Size([384]) to 67\n"
          ]
        },
        {
          "output_type": "display_data",
          "data": {
            "text/plain": [
              "\u001b[38;5;235m───────────────────────────────────────────────── \u001b[0m\u001b[1mSelected tasks \u001b[0m\u001b[38;5;235m ─────────────────────────────────────────────────\u001b[0m\n"
            ],
            "text/html": [
              "<pre style=\"white-space:pre;overflow-x:auto;line-height:normal;font-family:Menlo,'DejaVu Sans Mono',consolas,'Courier New',monospace\"><span style=\"color: #262626; text-decoration-color: #262626\">───────────────────────────────────────────────── </span><span style=\"font-weight: bold\">Selected tasks </span><span style=\"color: #262626; text-decoration-color: #262626\"> ─────────────────────────────────────────────────</span>\n",
              "</pre>\n"
            ]
          },
          "metadata": {}
        },
        {
          "output_type": "display_data",
          "data": {
            "text/plain": [
              "\u001b[1mClassification\u001b[0m\n"
            ],
            "text/html": [
              "<pre style=\"white-space:pre;overflow-x:auto;line-height:normal;font-family:Menlo,'DejaVu Sans Mono',consolas,'Courier New',monospace\"><span style=\"font-weight: bold\">Classification</span>\n",
              "</pre>\n"
            ]
          },
          "metadata": {}
        },
        {
          "output_type": "display_data",
          "data": {
            "text/plain": [
              "    - AmazonCounterfactualClassification, \u001b[3;38;5;241ms2s\u001b[0m, \u001b[3;31mmultilingual \u001b[0m\u001b[1;3;31m1\u001b[0m\u001b[3;31m \u001b[0m\u001b[3;31m/\u001b[0m\u001b[3;31m \u001b[0m\u001b[1;3;31m4\u001b[0m\u001b[3;31m langs\u001b[0m\n"
            ],
            "text/html": [
              "<pre style=\"white-space:pre;overflow-x:auto;line-height:normal;font-family:Menlo,'DejaVu Sans Mono',consolas,'Courier New',monospace\">    - AmazonCounterfactualClassification, <span style=\"color: #626262; text-decoration-color: #626262; font-style: italic\">s2s</span>, <span style=\"color: #800000; text-decoration-color: #800000; font-style: italic\">multilingual </span><span style=\"color: #800000; text-decoration-color: #800000; font-weight: bold; font-style: italic\">1</span><span style=\"color: #800000; text-decoration-color: #800000; font-style: italic\"> / </span><span style=\"color: #800000; text-decoration-color: #800000; font-weight: bold; font-style: italic\">4</span><span style=\"color: #800000; text-decoration-color: #800000; font-style: italic\"> langs</span>\n",
              "</pre>\n"
            ]
          },
          "metadata": {}
        },
        {
          "output_type": "display_data",
          "data": {
            "text/plain": [
              "\n",
              "\n"
            ],
            "text/html": [
              "<pre style=\"white-space:pre;overflow-x:auto;line-height:normal;font-family:Menlo,'DejaVu Sans Mono',consolas,'Courier New',monospace\">\n",
              "\n",
              "</pre>\n"
            ]
          },
          "metadata": {}
        },
        {
          "output_type": "stream",
          "name": "stdout",
          "text": [
            "Restored original weights for layer: auto_model.encoder.layer.2.attention.self.key\n",
            "Reconstructing layer: auto_model.encoder.layer.2.attention.self.value\n",
            "Reduced from torch.Size([384]) to 71\n"
          ]
        },
        {
          "output_type": "display_data",
          "data": {
            "text/plain": [
              "\u001b[38;5;235m───────────────────────────────────────────────── \u001b[0m\u001b[1mSelected tasks \u001b[0m\u001b[38;5;235m ─────────────────────────────────────────────────\u001b[0m\n"
            ],
            "text/html": [
              "<pre style=\"white-space:pre;overflow-x:auto;line-height:normal;font-family:Menlo,'DejaVu Sans Mono',consolas,'Courier New',monospace\"><span style=\"color: #262626; text-decoration-color: #262626\">───────────────────────────────────────────────── </span><span style=\"font-weight: bold\">Selected tasks </span><span style=\"color: #262626; text-decoration-color: #262626\"> ─────────────────────────────────────────────────</span>\n",
              "</pre>\n"
            ]
          },
          "metadata": {}
        },
        {
          "output_type": "display_data",
          "data": {
            "text/plain": [
              "\u001b[1mClassification\u001b[0m\n"
            ],
            "text/html": [
              "<pre style=\"white-space:pre;overflow-x:auto;line-height:normal;font-family:Menlo,'DejaVu Sans Mono',consolas,'Courier New',monospace\"><span style=\"font-weight: bold\">Classification</span>\n",
              "</pre>\n"
            ]
          },
          "metadata": {}
        },
        {
          "output_type": "display_data",
          "data": {
            "text/plain": [
              "    - AmazonCounterfactualClassification, \u001b[3;38;5;241ms2s\u001b[0m, \u001b[3;31mmultilingual \u001b[0m\u001b[1;3;31m1\u001b[0m\u001b[3;31m \u001b[0m\u001b[3;31m/\u001b[0m\u001b[3;31m \u001b[0m\u001b[1;3;31m4\u001b[0m\u001b[3;31m langs\u001b[0m\n"
            ],
            "text/html": [
              "<pre style=\"white-space:pre;overflow-x:auto;line-height:normal;font-family:Menlo,'DejaVu Sans Mono',consolas,'Courier New',monospace\">    - AmazonCounterfactualClassification, <span style=\"color: #626262; text-decoration-color: #626262; font-style: italic\">s2s</span>, <span style=\"color: #800000; text-decoration-color: #800000; font-style: italic\">multilingual </span><span style=\"color: #800000; text-decoration-color: #800000; font-weight: bold; font-style: italic\">1</span><span style=\"color: #800000; text-decoration-color: #800000; font-style: italic\"> / </span><span style=\"color: #800000; text-decoration-color: #800000; font-weight: bold; font-style: italic\">4</span><span style=\"color: #800000; text-decoration-color: #800000; font-style: italic\"> langs</span>\n",
              "</pre>\n"
            ]
          },
          "metadata": {}
        },
        {
          "output_type": "display_data",
          "data": {
            "text/plain": [
              "\n",
              "\n"
            ],
            "text/html": [
              "<pre style=\"white-space:pre;overflow-x:auto;line-height:normal;font-family:Menlo,'DejaVu Sans Mono',consolas,'Courier New',monospace\">\n",
              "\n",
              "</pre>\n"
            ]
          },
          "metadata": {}
        },
        {
          "output_type": "stream",
          "name": "stdout",
          "text": [
            "**************************************************\n",
            "Improved performance: 0.6913887506222001 for layer attention.self.value .2.. Total modifications is 12\n",
            "**************************************************\n",
            "Reconstructing layer: auto_model.encoder.layer.2.attention.output.dense\n",
            "Reduced from torch.Size([384]) to 64\n"
          ]
        },
        {
          "output_type": "display_data",
          "data": {
            "text/plain": [
              "\u001b[38;5;235m───────────────────────────────────────────────── \u001b[0m\u001b[1mSelected tasks \u001b[0m\u001b[38;5;235m ─────────────────────────────────────────────────\u001b[0m\n"
            ],
            "text/html": [
              "<pre style=\"white-space:pre;overflow-x:auto;line-height:normal;font-family:Menlo,'DejaVu Sans Mono',consolas,'Courier New',monospace\"><span style=\"color: #262626; text-decoration-color: #262626\">───────────────────────────────────────────────── </span><span style=\"font-weight: bold\">Selected tasks </span><span style=\"color: #262626; text-decoration-color: #262626\"> ─────────────────────────────────────────────────</span>\n",
              "</pre>\n"
            ]
          },
          "metadata": {}
        },
        {
          "output_type": "display_data",
          "data": {
            "text/plain": [
              "\u001b[1mClassification\u001b[0m\n"
            ],
            "text/html": [
              "<pre style=\"white-space:pre;overflow-x:auto;line-height:normal;font-family:Menlo,'DejaVu Sans Mono',consolas,'Courier New',monospace\"><span style=\"font-weight: bold\">Classification</span>\n",
              "</pre>\n"
            ]
          },
          "metadata": {}
        },
        {
          "output_type": "display_data",
          "data": {
            "text/plain": [
              "    - AmazonCounterfactualClassification, \u001b[3;38;5;241ms2s\u001b[0m, \u001b[3;31mmultilingual \u001b[0m\u001b[1;3;31m1\u001b[0m\u001b[3;31m \u001b[0m\u001b[3;31m/\u001b[0m\u001b[3;31m \u001b[0m\u001b[1;3;31m4\u001b[0m\u001b[3;31m langs\u001b[0m\n"
            ],
            "text/html": [
              "<pre style=\"white-space:pre;overflow-x:auto;line-height:normal;font-family:Menlo,'DejaVu Sans Mono',consolas,'Courier New',monospace\">    - AmazonCounterfactualClassification, <span style=\"color: #626262; text-decoration-color: #626262; font-style: italic\">s2s</span>, <span style=\"color: #800000; text-decoration-color: #800000; font-style: italic\">multilingual </span><span style=\"color: #800000; text-decoration-color: #800000; font-weight: bold; font-style: italic\">1</span><span style=\"color: #800000; text-decoration-color: #800000; font-style: italic\"> / </span><span style=\"color: #800000; text-decoration-color: #800000; font-weight: bold; font-style: italic\">4</span><span style=\"color: #800000; text-decoration-color: #800000; font-style: italic\"> langs</span>\n",
              "</pre>\n"
            ]
          },
          "metadata": {}
        },
        {
          "output_type": "display_data",
          "data": {
            "text/plain": [
              "\n",
              "\n"
            ],
            "text/html": [
              "<pre style=\"white-space:pre;overflow-x:auto;line-height:normal;font-family:Menlo,'DejaVu Sans Mono',consolas,'Courier New',monospace\">\n",
              "\n",
              "</pre>\n"
            ]
          },
          "metadata": {}
        },
        {
          "output_type": "stream",
          "name": "stdout",
          "text": [
            "**************************************************\n",
            "Improved performance: 0.6935540069686411 for layer attention.output.dense .2.. Total modifications is 13\n",
            "**************************************************\n",
            "Reconstructing layer: auto_model.encoder.layer.2.intermediate.dense\n",
            "Reduced from torch.Size([384]) to 262\n"
          ]
        },
        {
          "output_type": "display_data",
          "data": {
            "text/plain": [
              "\u001b[38;5;235m───────────────────────────────────────────────── \u001b[0m\u001b[1mSelected tasks \u001b[0m\u001b[38;5;235m ─────────────────────────────────────────────────\u001b[0m\n"
            ],
            "text/html": [
              "<pre style=\"white-space:pre;overflow-x:auto;line-height:normal;font-family:Menlo,'DejaVu Sans Mono',consolas,'Courier New',monospace\"><span style=\"color: #262626; text-decoration-color: #262626\">───────────────────────────────────────────────── </span><span style=\"font-weight: bold\">Selected tasks </span><span style=\"color: #262626; text-decoration-color: #262626\"> ─────────────────────────────────────────────────</span>\n",
              "</pre>\n"
            ]
          },
          "metadata": {}
        },
        {
          "output_type": "display_data",
          "data": {
            "text/plain": [
              "\u001b[1mClassification\u001b[0m\n"
            ],
            "text/html": [
              "<pre style=\"white-space:pre;overflow-x:auto;line-height:normal;font-family:Menlo,'DejaVu Sans Mono',consolas,'Courier New',monospace\"><span style=\"font-weight: bold\">Classification</span>\n",
              "</pre>\n"
            ]
          },
          "metadata": {}
        },
        {
          "output_type": "display_data",
          "data": {
            "text/plain": [
              "    - AmazonCounterfactualClassification, \u001b[3;38;5;241ms2s\u001b[0m, \u001b[3;31mmultilingual \u001b[0m\u001b[1;3;31m1\u001b[0m\u001b[3;31m \u001b[0m\u001b[3;31m/\u001b[0m\u001b[3;31m \u001b[0m\u001b[1;3;31m4\u001b[0m\u001b[3;31m langs\u001b[0m\n"
            ],
            "text/html": [
              "<pre style=\"white-space:pre;overflow-x:auto;line-height:normal;font-family:Menlo,'DejaVu Sans Mono',consolas,'Courier New',monospace\">    - AmazonCounterfactualClassification, <span style=\"color: #626262; text-decoration-color: #626262; font-style: italic\">s2s</span>, <span style=\"color: #800000; text-decoration-color: #800000; font-style: italic\">multilingual </span><span style=\"color: #800000; text-decoration-color: #800000; font-weight: bold; font-style: italic\">1</span><span style=\"color: #800000; text-decoration-color: #800000; font-style: italic\"> / </span><span style=\"color: #800000; text-decoration-color: #800000; font-weight: bold; font-style: italic\">4</span><span style=\"color: #800000; text-decoration-color: #800000; font-style: italic\"> langs</span>\n",
              "</pre>\n"
            ]
          },
          "metadata": {}
        },
        {
          "output_type": "display_data",
          "data": {
            "text/plain": [
              "\n",
              "\n"
            ],
            "text/html": [
              "<pre style=\"white-space:pre;overflow-x:auto;line-height:normal;font-family:Menlo,'DejaVu Sans Mono',consolas,'Courier New',monospace\">\n",
              "\n",
              "</pre>\n"
            ]
          },
          "metadata": {}
        },
        {
          "output_type": "stream",
          "name": "stdout",
          "text": [
            "Restored original weights for layer: auto_model.encoder.layer.2.intermediate.dense\n",
            "Reconstructing layer: auto_model.encoder.layer.2.attention.output.dense\n",
            "Reduced from torch.Size([384]) to 75\n"
          ]
        },
        {
          "output_type": "display_data",
          "data": {
            "text/plain": [
              "\u001b[38;5;235m───────────────────────────────────────────────── \u001b[0m\u001b[1mSelected tasks \u001b[0m\u001b[38;5;235m ─────────────────────────────────────────────────\u001b[0m\n"
            ],
            "text/html": [
              "<pre style=\"white-space:pre;overflow-x:auto;line-height:normal;font-family:Menlo,'DejaVu Sans Mono',consolas,'Courier New',monospace\"><span style=\"color: #262626; text-decoration-color: #262626\">───────────────────────────────────────────────── </span><span style=\"font-weight: bold\">Selected tasks </span><span style=\"color: #262626; text-decoration-color: #262626\"> ─────────────────────────────────────────────────</span>\n",
              "</pre>\n"
            ]
          },
          "metadata": {}
        },
        {
          "output_type": "display_data",
          "data": {
            "text/plain": [
              "\u001b[1mClassification\u001b[0m\n"
            ],
            "text/html": [
              "<pre style=\"white-space:pre;overflow-x:auto;line-height:normal;font-family:Menlo,'DejaVu Sans Mono',consolas,'Courier New',monospace\"><span style=\"font-weight: bold\">Classification</span>\n",
              "</pre>\n"
            ]
          },
          "metadata": {}
        },
        {
          "output_type": "display_data",
          "data": {
            "text/plain": [
              "    - AmazonCounterfactualClassification, \u001b[3;38;5;241ms2s\u001b[0m, \u001b[3;31mmultilingual \u001b[0m\u001b[1;3;31m1\u001b[0m\u001b[3;31m \u001b[0m\u001b[3;31m/\u001b[0m\u001b[3;31m \u001b[0m\u001b[1;3;31m4\u001b[0m\u001b[3;31m langs\u001b[0m\n"
            ],
            "text/html": [
              "<pre style=\"white-space:pre;overflow-x:auto;line-height:normal;font-family:Menlo,'DejaVu Sans Mono',consolas,'Courier New',monospace\">    - AmazonCounterfactualClassification, <span style=\"color: #626262; text-decoration-color: #626262; font-style: italic\">s2s</span>, <span style=\"color: #800000; text-decoration-color: #800000; font-style: italic\">multilingual </span><span style=\"color: #800000; text-decoration-color: #800000; font-weight: bold; font-style: italic\">1</span><span style=\"color: #800000; text-decoration-color: #800000; font-style: italic\"> / </span><span style=\"color: #800000; text-decoration-color: #800000; font-weight: bold; font-style: italic\">4</span><span style=\"color: #800000; text-decoration-color: #800000; font-style: italic\"> langs</span>\n",
              "</pre>\n"
            ]
          },
          "metadata": {}
        },
        {
          "output_type": "display_data",
          "data": {
            "text/plain": [
              "\n",
              "\n"
            ],
            "text/html": [
              "<pre style=\"white-space:pre;overflow-x:auto;line-height:normal;font-family:Menlo,'DejaVu Sans Mono',consolas,'Courier New',monospace\">\n",
              "\n",
              "</pre>\n"
            ]
          },
          "metadata": {}
        },
        {
          "output_type": "stream",
          "name": "stdout",
          "text": [
            "Restored original weights for layer: auto_model.encoder.layer.2.attention.output.dense\n",
            "No original weights saved for layer: auto_model.encoder.layer.2.output.dense\n",
            "Reconstructing layer: auto_model.encoder.layer.1.attention.self.query\n",
            "Reduced from torch.Size([384]) to 63\n"
          ]
        },
        {
          "output_type": "display_data",
          "data": {
            "text/plain": [
              "\u001b[38;5;235m───────────────────────────────────────────────── \u001b[0m\u001b[1mSelected tasks \u001b[0m\u001b[38;5;235m ─────────────────────────────────────────────────\u001b[0m\n"
            ],
            "text/html": [
              "<pre style=\"white-space:pre;overflow-x:auto;line-height:normal;font-family:Menlo,'DejaVu Sans Mono',consolas,'Courier New',monospace\"><span style=\"color: #262626; text-decoration-color: #262626\">───────────────────────────────────────────────── </span><span style=\"font-weight: bold\">Selected tasks </span><span style=\"color: #262626; text-decoration-color: #262626\"> ─────────────────────────────────────────────────</span>\n",
              "</pre>\n"
            ]
          },
          "metadata": {}
        },
        {
          "output_type": "display_data",
          "data": {
            "text/plain": [
              "\u001b[1mClassification\u001b[0m\n"
            ],
            "text/html": [
              "<pre style=\"white-space:pre;overflow-x:auto;line-height:normal;font-family:Menlo,'DejaVu Sans Mono',consolas,'Courier New',monospace\"><span style=\"font-weight: bold\">Classification</span>\n",
              "</pre>\n"
            ]
          },
          "metadata": {}
        },
        {
          "output_type": "display_data",
          "data": {
            "text/plain": [
              "    - AmazonCounterfactualClassification, \u001b[3;38;5;241ms2s\u001b[0m, \u001b[3;31mmultilingual \u001b[0m\u001b[1;3;31m1\u001b[0m\u001b[3;31m \u001b[0m\u001b[3;31m/\u001b[0m\u001b[3;31m \u001b[0m\u001b[1;3;31m4\u001b[0m\u001b[3;31m langs\u001b[0m\n"
            ],
            "text/html": [
              "<pre style=\"white-space:pre;overflow-x:auto;line-height:normal;font-family:Menlo,'DejaVu Sans Mono',consolas,'Courier New',monospace\">    - AmazonCounterfactualClassification, <span style=\"color: #626262; text-decoration-color: #626262; font-style: italic\">s2s</span>, <span style=\"color: #800000; text-decoration-color: #800000; font-style: italic\">multilingual </span><span style=\"color: #800000; text-decoration-color: #800000; font-weight: bold; font-style: italic\">1</span><span style=\"color: #800000; text-decoration-color: #800000; font-style: italic\"> / </span><span style=\"color: #800000; text-decoration-color: #800000; font-weight: bold; font-style: italic\">4</span><span style=\"color: #800000; text-decoration-color: #800000; font-style: italic\"> langs</span>\n",
              "</pre>\n"
            ]
          },
          "metadata": {}
        },
        {
          "output_type": "display_data",
          "data": {
            "text/plain": [
              "\n",
              "\n"
            ],
            "text/html": [
              "<pre style=\"white-space:pre;overflow-x:auto;line-height:normal;font-family:Menlo,'DejaVu Sans Mono',consolas,'Courier New',monospace\">\n",
              "\n",
              "</pre>\n"
            ]
          },
          "metadata": {}
        },
        {
          "output_type": "stream",
          "name": "stdout",
          "text": [
            "Restored original weights for layer: auto_model.encoder.layer.1.attention.self.query\n",
            "Reconstructing layer: auto_model.encoder.layer.1.attention.self.key\n",
            "Reduced from torch.Size([384]) to 66\n"
          ]
        },
        {
          "output_type": "display_data",
          "data": {
            "text/plain": [
              "\u001b[38;5;235m───────────────────────────────────────────────── \u001b[0m\u001b[1mSelected tasks \u001b[0m\u001b[38;5;235m ─────────────────────────────────────────────────\u001b[0m\n"
            ],
            "text/html": [
              "<pre style=\"white-space:pre;overflow-x:auto;line-height:normal;font-family:Menlo,'DejaVu Sans Mono',consolas,'Courier New',monospace\"><span style=\"color: #262626; text-decoration-color: #262626\">───────────────────────────────────────────────── </span><span style=\"font-weight: bold\">Selected tasks </span><span style=\"color: #262626; text-decoration-color: #262626\"> ─────────────────────────────────────────────────</span>\n",
              "</pre>\n"
            ]
          },
          "metadata": {}
        },
        {
          "output_type": "display_data",
          "data": {
            "text/plain": [
              "\u001b[1mClassification\u001b[0m\n"
            ],
            "text/html": [
              "<pre style=\"white-space:pre;overflow-x:auto;line-height:normal;font-family:Menlo,'DejaVu Sans Mono',consolas,'Courier New',monospace\"><span style=\"font-weight: bold\">Classification</span>\n",
              "</pre>\n"
            ]
          },
          "metadata": {}
        },
        {
          "output_type": "display_data",
          "data": {
            "text/plain": [
              "    - AmazonCounterfactualClassification, \u001b[3;38;5;241ms2s\u001b[0m, \u001b[3;31mmultilingual \u001b[0m\u001b[1;3;31m1\u001b[0m\u001b[3;31m \u001b[0m\u001b[3;31m/\u001b[0m\u001b[3;31m \u001b[0m\u001b[1;3;31m4\u001b[0m\u001b[3;31m langs\u001b[0m\n"
            ],
            "text/html": [
              "<pre style=\"white-space:pre;overflow-x:auto;line-height:normal;font-family:Menlo,'DejaVu Sans Mono',consolas,'Courier New',monospace\">    - AmazonCounterfactualClassification, <span style=\"color: #626262; text-decoration-color: #626262; font-style: italic\">s2s</span>, <span style=\"color: #800000; text-decoration-color: #800000; font-style: italic\">multilingual </span><span style=\"color: #800000; text-decoration-color: #800000; font-weight: bold; font-style: italic\">1</span><span style=\"color: #800000; text-decoration-color: #800000; font-style: italic\"> / </span><span style=\"color: #800000; text-decoration-color: #800000; font-weight: bold; font-style: italic\">4</span><span style=\"color: #800000; text-decoration-color: #800000; font-style: italic\"> langs</span>\n",
              "</pre>\n"
            ]
          },
          "metadata": {}
        },
        {
          "output_type": "display_data",
          "data": {
            "text/plain": [
              "\n",
              "\n"
            ],
            "text/html": [
              "<pre style=\"white-space:pre;overflow-x:auto;line-height:normal;font-family:Menlo,'DejaVu Sans Mono',consolas,'Courier New',monospace\">\n",
              "\n",
              "</pre>\n"
            ]
          },
          "metadata": {}
        },
        {
          "output_type": "stream",
          "name": "stdout",
          "text": [
            "Restored original weights for layer: auto_model.encoder.layer.1.attention.self.key\n",
            "Reconstructing layer: auto_model.encoder.layer.1.attention.self.value\n",
            "Reduced from torch.Size([384]) to 74\n"
          ]
        },
        {
          "output_type": "display_data",
          "data": {
            "text/plain": [
              "\u001b[38;5;235m───────────────────────────────────────────────── \u001b[0m\u001b[1mSelected tasks \u001b[0m\u001b[38;5;235m ─────────────────────────────────────────────────\u001b[0m\n"
            ],
            "text/html": [
              "<pre style=\"white-space:pre;overflow-x:auto;line-height:normal;font-family:Menlo,'DejaVu Sans Mono',consolas,'Courier New',monospace\"><span style=\"color: #262626; text-decoration-color: #262626\">───────────────────────────────────────────────── </span><span style=\"font-weight: bold\">Selected tasks </span><span style=\"color: #262626; text-decoration-color: #262626\"> ─────────────────────────────────────────────────</span>\n",
              "</pre>\n"
            ]
          },
          "metadata": {}
        },
        {
          "output_type": "display_data",
          "data": {
            "text/plain": [
              "\u001b[1mClassification\u001b[0m\n"
            ],
            "text/html": [
              "<pre style=\"white-space:pre;overflow-x:auto;line-height:normal;font-family:Menlo,'DejaVu Sans Mono',consolas,'Courier New',monospace\"><span style=\"font-weight: bold\">Classification</span>\n",
              "</pre>\n"
            ]
          },
          "metadata": {}
        },
        {
          "output_type": "display_data",
          "data": {
            "text/plain": [
              "    - AmazonCounterfactualClassification, \u001b[3;38;5;241ms2s\u001b[0m, \u001b[3;31mmultilingual \u001b[0m\u001b[1;3;31m1\u001b[0m\u001b[3;31m \u001b[0m\u001b[3;31m/\u001b[0m\u001b[3;31m \u001b[0m\u001b[1;3;31m4\u001b[0m\u001b[3;31m langs\u001b[0m\n"
            ],
            "text/html": [
              "<pre style=\"white-space:pre;overflow-x:auto;line-height:normal;font-family:Menlo,'DejaVu Sans Mono',consolas,'Courier New',monospace\">    - AmazonCounterfactualClassification, <span style=\"color: #626262; text-decoration-color: #626262; font-style: italic\">s2s</span>, <span style=\"color: #800000; text-decoration-color: #800000; font-style: italic\">multilingual </span><span style=\"color: #800000; text-decoration-color: #800000; font-weight: bold; font-style: italic\">1</span><span style=\"color: #800000; text-decoration-color: #800000; font-style: italic\"> / </span><span style=\"color: #800000; text-decoration-color: #800000; font-weight: bold; font-style: italic\">4</span><span style=\"color: #800000; text-decoration-color: #800000; font-style: italic\"> langs</span>\n",
              "</pre>\n"
            ]
          },
          "metadata": {}
        },
        {
          "output_type": "display_data",
          "data": {
            "text/plain": [
              "\n",
              "\n"
            ],
            "text/html": [
              "<pre style=\"white-space:pre;overflow-x:auto;line-height:normal;font-family:Menlo,'DejaVu Sans Mono',consolas,'Courier New',monospace\">\n",
              "\n",
              "</pre>\n"
            ]
          },
          "metadata": {}
        },
        {
          "output_type": "stream",
          "name": "stdout",
          "text": [
            "**************************************************\n",
            "Improved performance: 0.7001493280238925 for layer attention.self.value .1.. Total modifications is 14\n",
            "**************************************************\n",
            "Reconstructing layer: auto_model.encoder.layer.1.attention.output.dense\n",
            "Reduced from torch.Size([384]) to 67\n"
          ]
        },
        {
          "output_type": "display_data",
          "data": {
            "text/plain": [
              "\u001b[38;5;235m───────────────────────────────────────────────── \u001b[0m\u001b[1mSelected tasks \u001b[0m\u001b[38;5;235m ─────────────────────────────────────────────────\u001b[0m\n"
            ],
            "text/html": [
              "<pre style=\"white-space:pre;overflow-x:auto;line-height:normal;font-family:Menlo,'DejaVu Sans Mono',consolas,'Courier New',monospace\"><span style=\"color: #262626; text-decoration-color: #262626\">───────────────────────────────────────────────── </span><span style=\"font-weight: bold\">Selected tasks </span><span style=\"color: #262626; text-decoration-color: #262626\"> ─────────────────────────────────────────────────</span>\n",
              "</pre>\n"
            ]
          },
          "metadata": {}
        },
        {
          "output_type": "display_data",
          "data": {
            "text/plain": [
              "\u001b[1mClassification\u001b[0m\n"
            ],
            "text/html": [
              "<pre style=\"white-space:pre;overflow-x:auto;line-height:normal;font-family:Menlo,'DejaVu Sans Mono',consolas,'Courier New',monospace\"><span style=\"font-weight: bold\">Classification</span>\n",
              "</pre>\n"
            ]
          },
          "metadata": {}
        },
        {
          "output_type": "display_data",
          "data": {
            "text/plain": [
              "    - AmazonCounterfactualClassification, \u001b[3;38;5;241ms2s\u001b[0m, \u001b[3;31mmultilingual \u001b[0m\u001b[1;3;31m1\u001b[0m\u001b[3;31m \u001b[0m\u001b[3;31m/\u001b[0m\u001b[3;31m \u001b[0m\u001b[1;3;31m4\u001b[0m\u001b[3;31m langs\u001b[0m\n"
            ],
            "text/html": [
              "<pre style=\"white-space:pre;overflow-x:auto;line-height:normal;font-family:Menlo,'DejaVu Sans Mono',consolas,'Courier New',monospace\">    - AmazonCounterfactualClassification, <span style=\"color: #626262; text-decoration-color: #626262; font-style: italic\">s2s</span>, <span style=\"color: #800000; text-decoration-color: #800000; font-style: italic\">multilingual </span><span style=\"color: #800000; text-decoration-color: #800000; font-weight: bold; font-style: italic\">1</span><span style=\"color: #800000; text-decoration-color: #800000; font-style: italic\"> / </span><span style=\"color: #800000; text-decoration-color: #800000; font-weight: bold; font-style: italic\">4</span><span style=\"color: #800000; text-decoration-color: #800000; font-style: italic\"> langs</span>\n",
              "</pre>\n"
            ]
          },
          "metadata": {}
        },
        {
          "output_type": "display_data",
          "data": {
            "text/plain": [
              "\n",
              "\n"
            ],
            "text/html": [
              "<pre style=\"white-space:pre;overflow-x:auto;line-height:normal;font-family:Menlo,'DejaVu Sans Mono',consolas,'Courier New',monospace\">\n",
              "\n",
              "</pre>\n"
            ]
          },
          "metadata": {}
        },
        {
          "output_type": "stream",
          "name": "stdout",
          "text": [
            "Restored original weights for layer: auto_model.encoder.layer.1.attention.output.dense\n",
            "Reconstructing layer: auto_model.encoder.layer.1.intermediate.dense\n",
            "Reduced from torch.Size([384]) to 280\n"
          ]
        },
        {
          "output_type": "display_data",
          "data": {
            "text/plain": [
              "\u001b[38;5;235m───────────────────────────────────────────────── \u001b[0m\u001b[1mSelected tasks \u001b[0m\u001b[38;5;235m ─────────────────────────────────────────────────\u001b[0m\n"
            ],
            "text/html": [
              "<pre style=\"white-space:pre;overflow-x:auto;line-height:normal;font-family:Menlo,'DejaVu Sans Mono',consolas,'Courier New',monospace\"><span style=\"color: #262626; text-decoration-color: #262626\">───────────────────────────────────────────────── </span><span style=\"font-weight: bold\">Selected tasks </span><span style=\"color: #262626; text-decoration-color: #262626\"> ─────────────────────────────────────────────────</span>\n",
              "</pre>\n"
            ]
          },
          "metadata": {}
        },
        {
          "output_type": "display_data",
          "data": {
            "text/plain": [
              "\u001b[1mClassification\u001b[0m\n"
            ],
            "text/html": [
              "<pre style=\"white-space:pre;overflow-x:auto;line-height:normal;font-family:Menlo,'DejaVu Sans Mono',consolas,'Courier New',monospace\"><span style=\"font-weight: bold\">Classification</span>\n",
              "</pre>\n"
            ]
          },
          "metadata": {}
        },
        {
          "output_type": "display_data",
          "data": {
            "text/plain": [
              "    - AmazonCounterfactualClassification, \u001b[3;38;5;241ms2s\u001b[0m, \u001b[3;31mmultilingual \u001b[0m\u001b[1;3;31m1\u001b[0m\u001b[3;31m \u001b[0m\u001b[3;31m/\u001b[0m\u001b[3;31m \u001b[0m\u001b[1;3;31m4\u001b[0m\u001b[3;31m langs\u001b[0m\n"
            ],
            "text/html": [
              "<pre style=\"white-space:pre;overflow-x:auto;line-height:normal;font-family:Menlo,'DejaVu Sans Mono',consolas,'Courier New',monospace\">    - AmazonCounterfactualClassification, <span style=\"color: #626262; text-decoration-color: #626262; font-style: italic\">s2s</span>, <span style=\"color: #800000; text-decoration-color: #800000; font-style: italic\">multilingual </span><span style=\"color: #800000; text-decoration-color: #800000; font-weight: bold; font-style: italic\">1</span><span style=\"color: #800000; text-decoration-color: #800000; font-style: italic\"> / </span><span style=\"color: #800000; text-decoration-color: #800000; font-weight: bold; font-style: italic\">4</span><span style=\"color: #800000; text-decoration-color: #800000; font-style: italic\"> langs</span>\n",
              "</pre>\n"
            ]
          },
          "metadata": {}
        },
        {
          "output_type": "display_data",
          "data": {
            "text/plain": [
              "\n",
              "\n"
            ],
            "text/html": [
              "<pre style=\"white-space:pre;overflow-x:auto;line-height:normal;font-family:Menlo,'DejaVu Sans Mono',consolas,'Courier New',monospace\">\n",
              "\n",
              "</pre>\n"
            ]
          },
          "metadata": {}
        },
        {
          "output_type": "stream",
          "name": "stdout",
          "text": [
            "Restored original weights for layer: auto_model.encoder.layer.1.intermediate.dense\n",
            "Reconstructing layer: auto_model.encoder.layer.1.attention.output.dense\n",
            "Reduced from torch.Size([384]) to 67\n"
          ]
        },
        {
          "output_type": "display_data",
          "data": {
            "text/plain": [
              "\u001b[38;5;235m───────────────────────────────────────────────── \u001b[0m\u001b[1mSelected tasks \u001b[0m\u001b[38;5;235m ─────────────────────────────────────────────────\u001b[0m\n"
            ],
            "text/html": [
              "<pre style=\"white-space:pre;overflow-x:auto;line-height:normal;font-family:Menlo,'DejaVu Sans Mono',consolas,'Courier New',monospace\"><span style=\"color: #262626; text-decoration-color: #262626\">───────────────────────────────────────────────── </span><span style=\"font-weight: bold\">Selected tasks </span><span style=\"color: #262626; text-decoration-color: #262626\"> ─────────────────────────────────────────────────</span>\n",
              "</pre>\n"
            ]
          },
          "metadata": {}
        },
        {
          "output_type": "display_data",
          "data": {
            "text/plain": [
              "\u001b[1mClassification\u001b[0m\n"
            ],
            "text/html": [
              "<pre style=\"white-space:pre;overflow-x:auto;line-height:normal;font-family:Menlo,'DejaVu Sans Mono',consolas,'Courier New',monospace\"><span style=\"font-weight: bold\">Classification</span>\n",
              "</pre>\n"
            ]
          },
          "metadata": {}
        },
        {
          "output_type": "display_data",
          "data": {
            "text/plain": [
              "    - AmazonCounterfactualClassification, \u001b[3;38;5;241ms2s\u001b[0m, \u001b[3;31mmultilingual \u001b[0m\u001b[1;3;31m1\u001b[0m\u001b[3;31m \u001b[0m\u001b[3;31m/\u001b[0m\u001b[3;31m \u001b[0m\u001b[1;3;31m4\u001b[0m\u001b[3;31m langs\u001b[0m\n"
            ],
            "text/html": [
              "<pre style=\"white-space:pre;overflow-x:auto;line-height:normal;font-family:Menlo,'DejaVu Sans Mono',consolas,'Courier New',monospace\">    - AmazonCounterfactualClassification, <span style=\"color: #626262; text-decoration-color: #626262; font-style: italic\">s2s</span>, <span style=\"color: #800000; text-decoration-color: #800000; font-style: italic\">multilingual </span><span style=\"color: #800000; text-decoration-color: #800000; font-weight: bold; font-style: italic\">1</span><span style=\"color: #800000; text-decoration-color: #800000; font-style: italic\"> / </span><span style=\"color: #800000; text-decoration-color: #800000; font-weight: bold; font-style: italic\">4</span><span style=\"color: #800000; text-decoration-color: #800000; font-style: italic\"> langs</span>\n",
              "</pre>\n"
            ]
          },
          "metadata": {}
        },
        {
          "output_type": "display_data",
          "data": {
            "text/plain": [
              "\n",
              "\n"
            ],
            "text/html": [
              "<pre style=\"white-space:pre;overflow-x:auto;line-height:normal;font-family:Menlo,'DejaVu Sans Mono',consolas,'Courier New',monospace\">\n",
              "\n",
              "</pre>\n"
            ]
          },
          "metadata": {}
        },
        {
          "output_type": "stream",
          "name": "stdout",
          "text": [
            "Restored original weights for layer: auto_model.encoder.layer.1.attention.output.dense\n",
            "No original weights saved for layer: auto_model.encoder.layer.1.output.dense\n",
            "Reconstructing layer: auto_model.encoder.layer.0.attention.self.query\n",
            "Reduced from torch.Size([384]) to 67\n"
          ]
        },
        {
          "output_type": "display_data",
          "data": {
            "text/plain": [
              "\u001b[38;5;235m───────────────────────────────────────────────── \u001b[0m\u001b[1mSelected tasks \u001b[0m\u001b[38;5;235m ─────────────────────────────────────────────────\u001b[0m\n"
            ],
            "text/html": [
              "<pre style=\"white-space:pre;overflow-x:auto;line-height:normal;font-family:Menlo,'DejaVu Sans Mono',consolas,'Courier New',monospace\"><span style=\"color: #262626; text-decoration-color: #262626\">───────────────────────────────────────────────── </span><span style=\"font-weight: bold\">Selected tasks </span><span style=\"color: #262626; text-decoration-color: #262626\"> ─────────────────────────────────────────────────</span>\n",
              "</pre>\n"
            ]
          },
          "metadata": {}
        },
        {
          "output_type": "display_data",
          "data": {
            "text/plain": [
              "\u001b[1mClassification\u001b[0m\n"
            ],
            "text/html": [
              "<pre style=\"white-space:pre;overflow-x:auto;line-height:normal;font-family:Menlo,'DejaVu Sans Mono',consolas,'Courier New',monospace\"><span style=\"font-weight: bold\">Classification</span>\n",
              "</pre>\n"
            ]
          },
          "metadata": {}
        },
        {
          "output_type": "display_data",
          "data": {
            "text/plain": [
              "    - AmazonCounterfactualClassification, \u001b[3;38;5;241ms2s\u001b[0m, \u001b[3;31mmultilingual \u001b[0m\u001b[1;3;31m1\u001b[0m\u001b[3;31m \u001b[0m\u001b[3;31m/\u001b[0m\u001b[3;31m \u001b[0m\u001b[1;3;31m4\u001b[0m\u001b[3;31m langs\u001b[0m\n"
            ],
            "text/html": [
              "<pre style=\"white-space:pre;overflow-x:auto;line-height:normal;font-family:Menlo,'DejaVu Sans Mono',consolas,'Courier New',monospace\">    - AmazonCounterfactualClassification, <span style=\"color: #626262; text-decoration-color: #626262; font-style: italic\">s2s</span>, <span style=\"color: #800000; text-decoration-color: #800000; font-style: italic\">multilingual </span><span style=\"color: #800000; text-decoration-color: #800000; font-weight: bold; font-style: italic\">1</span><span style=\"color: #800000; text-decoration-color: #800000; font-style: italic\"> / </span><span style=\"color: #800000; text-decoration-color: #800000; font-weight: bold; font-style: italic\">4</span><span style=\"color: #800000; text-decoration-color: #800000; font-style: italic\"> langs</span>\n",
              "</pre>\n"
            ]
          },
          "metadata": {}
        },
        {
          "output_type": "display_data",
          "data": {
            "text/plain": [
              "\n",
              "\n"
            ],
            "text/html": [
              "<pre style=\"white-space:pre;overflow-x:auto;line-height:normal;font-family:Menlo,'DejaVu Sans Mono',consolas,'Courier New',monospace\">\n",
              "\n",
              "</pre>\n"
            ]
          },
          "metadata": {}
        },
        {
          "output_type": "stream",
          "name": "stdout",
          "text": [
            "Restored original weights for layer: auto_model.encoder.layer.0.attention.self.query\n",
            "Reconstructing layer: auto_model.encoder.layer.0.attention.self.key\n",
            "Reduced from torch.Size([384]) to 73\n"
          ]
        },
        {
          "output_type": "display_data",
          "data": {
            "text/plain": [
              "\u001b[38;5;235m───────────────────────────────────────────────── \u001b[0m\u001b[1mSelected tasks \u001b[0m\u001b[38;5;235m ─────────────────────────────────────────────────\u001b[0m\n"
            ],
            "text/html": [
              "<pre style=\"white-space:pre;overflow-x:auto;line-height:normal;font-family:Menlo,'DejaVu Sans Mono',consolas,'Courier New',monospace\"><span style=\"color: #262626; text-decoration-color: #262626\">───────────────────────────────────────────────── </span><span style=\"font-weight: bold\">Selected tasks </span><span style=\"color: #262626; text-decoration-color: #262626\"> ─────────────────────────────────────────────────</span>\n",
              "</pre>\n"
            ]
          },
          "metadata": {}
        },
        {
          "output_type": "display_data",
          "data": {
            "text/plain": [
              "\u001b[1mClassification\u001b[0m\n"
            ],
            "text/html": [
              "<pre style=\"white-space:pre;overflow-x:auto;line-height:normal;font-family:Menlo,'DejaVu Sans Mono',consolas,'Courier New',monospace\"><span style=\"font-weight: bold\">Classification</span>\n",
              "</pre>\n"
            ]
          },
          "metadata": {}
        },
        {
          "output_type": "display_data",
          "data": {
            "text/plain": [
              "    - AmazonCounterfactualClassification, \u001b[3;38;5;241ms2s\u001b[0m, \u001b[3;31mmultilingual \u001b[0m\u001b[1;3;31m1\u001b[0m\u001b[3;31m \u001b[0m\u001b[3;31m/\u001b[0m\u001b[3;31m \u001b[0m\u001b[1;3;31m4\u001b[0m\u001b[3;31m langs\u001b[0m\n"
            ],
            "text/html": [
              "<pre style=\"white-space:pre;overflow-x:auto;line-height:normal;font-family:Menlo,'DejaVu Sans Mono',consolas,'Courier New',monospace\">    - AmazonCounterfactualClassification, <span style=\"color: #626262; text-decoration-color: #626262; font-style: italic\">s2s</span>, <span style=\"color: #800000; text-decoration-color: #800000; font-style: italic\">multilingual </span><span style=\"color: #800000; text-decoration-color: #800000; font-weight: bold; font-style: italic\">1</span><span style=\"color: #800000; text-decoration-color: #800000; font-style: italic\"> / </span><span style=\"color: #800000; text-decoration-color: #800000; font-weight: bold; font-style: italic\">4</span><span style=\"color: #800000; text-decoration-color: #800000; font-style: italic\"> langs</span>\n",
              "</pre>\n"
            ]
          },
          "metadata": {}
        },
        {
          "output_type": "display_data",
          "data": {
            "text/plain": [
              "\n",
              "\n"
            ],
            "text/html": [
              "<pre style=\"white-space:pre;overflow-x:auto;line-height:normal;font-family:Menlo,'DejaVu Sans Mono',consolas,'Courier New',monospace\">\n",
              "\n",
              "</pre>\n"
            ]
          },
          "metadata": {}
        },
        {
          "output_type": "stream",
          "name": "stdout",
          "text": [
            "Restored original weights for layer: auto_model.encoder.layer.0.attention.self.key\n",
            "Reconstructing layer: auto_model.encoder.layer.0.attention.self.value\n",
            "Reduced from torch.Size([384]) to 74\n"
          ]
        },
        {
          "output_type": "display_data",
          "data": {
            "text/plain": [
              "\u001b[38;5;235m───────────────────────────────────────────────── \u001b[0m\u001b[1mSelected tasks \u001b[0m\u001b[38;5;235m ─────────────────────────────────────────────────\u001b[0m\n"
            ],
            "text/html": [
              "<pre style=\"white-space:pre;overflow-x:auto;line-height:normal;font-family:Menlo,'DejaVu Sans Mono',consolas,'Courier New',monospace\"><span style=\"color: #262626; text-decoration-color: #262626\">───────────────────────────────────────────────── </span><span style=\"font-weight: bold\">Selected tasks </span><span style=\"color: #262626; text-decoration-color: #262626\"> ─────────────────────────────────────────────────</span>\n",
              "</pre>\n"
            ]
          },
          "metadata": {}
        },
        {
          "output_type": "display_data",
          "data": {
            "text/plain": [
              "\u001b[1mClassification\u001b[0m\n"
            ],
            "text/html": [
              "<pre style=\"white-space:pre;overflow-x:auto;line-height:normal;font-family:Menlo,'DejaVu Sans Mono',consolas,'Courier New',monospace\"><span style=\"font-weight: bold\">Classification</span>\n",
              "</pre>\n"
            ]
          },
          "metadata": {}
        },
        {
          "output_type": "display_data",
          "data": {
            "text/plain": [
              "    - AmazonCounterfactualClassification, \u001b[3;38;5;241ms2s\u001b[0m, \u001b[3;31mmultilingual \u001b[0m\u001b[1;3;31m1\u001b[0m\u001b[3;31m \u001b[0m\u001b[3;31m/\u001b[0m\u001b[3;31m \u001b[0m\u001b[1;3;31m4\u001b[0m\u001b[3;31m langs\u001b[0m\n"
            ],
            "text/html": [
              "<pre style=\"white-space:pre;overflow-x:auto;line-height:normal;font-family:Menlo,'DejaVu Sans Mono',consolas,'Courier New',monospace\">    - AmazonCounterfactualClassification, <span style=\"color: #626262; text-decoration-color: #626262; font-style: italic\">s2s</span>, <span style=\"color: #800000; text-decoration-color: #800000; font-style: italic\">multilingual </span><span style=\"color: #800000; text-decoration-color: #800000; font-weight: bold; font-style: italic\">1</span><span style=\"color: #800000; text-decoration-color: #800000; font-style: italic\"> / </span><span style=\"color: #800000; text-decoration-color: #800000; font-weight: bold; font-style: italic\">4</span><span style=\"color: #800000; text-decoration-color: #800000; font-style: italic\"> langs</span>\n",
              "</pre>\n"
            ]
          },
          "metadata": {}
        },
        {
          "output_type": "display_data",
          "data": {
            "text/plain": [
              "\n",
              "\n"
            ],
            "text/html": [
              "<pre style=\"white-space:pre;overflow-x:auto;line-height:normal;font-family:Menlo,'DejaVu Sans Mono',consolas,'Courier New',monospace\">\n",
              "\n",
              "</pre>\n"
            ]
          },
          "metadata": {}
        },
        {
          "output_type": "stream",
          "name": "stdout",
          "text": [
            "Restored original weights for layer: auto_model.encoder.layer.0.attention.self.value\n",
            "Reconstructing layer: auto_model.encoder.layer.0.attention.output.dense\n",
            "Reduced from torch.Size([384]) to 76\n"
          ]
        },
        {
          "output_type": "display_data",
          "data": {
            "text/plain": [
              "\u001b[38;5;235m───────────────────────────────────────────────── \u001b[0m\u001b[1mSelected tasks \u001b[0m\u001b[38;5;235m ─────────────────────────────────────────────────\u001b[0m\n"
            ],
            "text/html": [
              "<pre style=\"white-space:pre;overflow-x:auto;line-height:normal;font-family:Menlo,'DejaVu Sans Mono',consolas,'Courier New',monospace\"><span style=\"color: #262626; text-decoration-color: #262626\">───────────────────────────────────────────────── </span><span style=\"font-weight: bold\">Selected tasks </span><span style=\"color: #262626; text-decoration-color: #262626\"> ─────────────────────────────────────────────────</span>\n",
              "</pre>\n"
            ]
          },
          "metadata": {}
        },
        {
          "output_type": "display_data",
          "data": {
            "text/plain": [
              "\u001b[1mClassification\u001b[0m\n"
            ],
            "text/html": [
              "<pre style=\"white-space:pre;overflow-x:auto;line-height:normal;font-family:Menlo,'DejaVu Sans Mono',consolas,'Courier New',monospace\"><span style=\"font-weight: bold\">Classification</span>\n",
              "</pre>\n"
            ]
          },
          "metadata": {}
        },
        {
          "output_type": "display_data",
          "data": {
            "text/plain": [
              "    - AmazonCounterfactualClassification, \u001b[3;38;5;241ms2s\u001b[0m, \u001b[3;31mmultilingual \u001b[0m\u001b[1;3;31m1\u001b[0m\u001b[3;31m \u001b[0m\u001b[3;31m/\u001b[0m\u001b[3;31m \u001b[0m\u001b[1;3;31m4\u001b[0m\u001b[3;31m langs\u001b[0m\n"
            ],
            "text/html": [
              "<pre style=\"white-space:pre;overflow-x:auto;line-height:normal;font-family:Menlo,'DejaVu Sans Mono',consolas,'Courier New',monospace\">    - AmazonCounterfactualClassification, <span style=\"color: #626262; text-decoration-color: #626262; font-style: italic\">s2s</span>, <span style=\"color: #800000; text-decoration-color: #800000; font-style: italic\">multilingual </span><span style=\"color: #800000; text-decoration-color: #800000; font-weight: bold; font-style: italic\">1</span><span style=\"color: #800000; text-decoration-color: #800000; font-style: italic\"> / </span><span style=\"color: #800000; text-decoration-color: #800000; font-weight: bold; font-style: italic\">4</span><span style=\"color: #800000; text-decoration-color: #800000; font-style: italic\"> langs</span>\n",
              "</pre>\n"
            ]
          },
          "metadata": {}
        },
        {
          "output_type": "display_data",
          "data": {
            "text/plain": [
              "\n",
              "\n"
            ],
            "text/html": [
              "<pre style=\"white-space:pre;overflow-x:auto;line-height:normal;font-family:Menlo,'DejaVu Sans Mono',consolas,'Courier New',monospace\">\n",
              "\n",
              "</pre>\n"
            ]
          },
          "metadata": {}
        },
        {
          "output_type": "stream",
          "name": "stdout",
          "text": [
            "Restored original weights for layer: auto_model.encoder.layer.0.attention.output.dense\n",
            "Reconstructing layer: auto_model.encoder.layer.0.intermediate.dense\n",
            "Reduced from torch.Size([384]) to 353\n"
          ]
        },
        {
          "output_type": "display_data",
          "data": {
            "text/plain": [
              "\u001b[38;5;235m───────────────────────────────────────────────── \u001b[0m\u001b[1mSelected tasks \u001b[0m\u001b[38;5;235m ─────────────────────────────────────────────────\u001b[0m\n"
            ],
            "text/html": [
              "<pre style=\"white-space:pre;overflow-x:auto;line-height:normal;font-family:Menlo,'DejaVu Sans Mono',consolas,'Courier New',monospace\"><span style=\"color: #262626; text-decoration-color: #262626\">───────────────────────────────────────────────── </span><span style=\"font-weight: bold\">Selected tasks </span><span style=\"color: #262626; text-decoration-color: #262626\"> ─────────────────────────────────────────────────</span>\n",
              "</pre>\n"
            ]
          },
          "metadata": {}
        },
        {
          "output_type": "display_data",
          "data": {
            "text/plain": [
              "\u001b[1mClassification\u001b[0m\n"
            ],
            "text/html": [
              "<pre style=\"white-space:pre;overflow-x:auto;line-height:normal;font-family:Menlo,'DejaVu Sans Mono',consolas,'Courier New',monospace\"><span style=\"font-weight: bold\">Classification</span>\n",
              "</pre>\n"
            ]
          },
          "metadata": {}
        },
        {
          "output_type": "display_data",
          "data": {
            "text/plain": [
              "    - AmazonCounterfactualClassification, \u001b[3;38;5;241ms2s\u001b[0m, \u001b[3;31mmultilingual \u001b[0m\u001b[1;3;31m1\u001b[0m\u001b[3;31m \u001b[0m\u001b[3;31m/\u001b[0m\u001b[3;31m \u001b[0m\u001b[1;3;31m4\u001b[0m\u001b[3;31m langs\u001b[0m\n"
            ],
            "text/html": [
              "<pre style=\"white-space:pre;overflow-x:auto;line-height:normal;font-family:Menlo,'DejaVu Sans Mono',consolas,'Courier New',monospace\">    - AmazonCounterfactualClassification, <span style=\"color: #626262; text-decoration-color: #626262; font-style: italic\">s2s</span>, <span style=\"color: #800000; text-decoration-color: #800000; font-style: italic\">multilingual </span><span style=\"color: #800000; text-decoration-color: #800000; font-weight: bold; font-style: italic\">1</span><span style=\"color: #800000; text-decoration-color: #800000; font-style: italic\"> / </span><span style=\"color: #800000; text-decoration-color: #800000; font-weight: bold; font-style: italic\">4</span><span style=\"color: #800000; text-decoration-color: #800000; font-style: italic\"> langs</span>\n",
              "</pre>\n"
            ]
          },
          "metadata": {}
        },
        {
          "output_type": "display_data",
          "data": {
            "text/plain": [
              "\n",
              "\n"
            ],
            "text/html": [
              "<pre style=\"white-space:pre;overflow-x:auto;line-height:normal;font-family:Menlo,'DejaVu Sans Mono',consolas,'Courier New',monospace\">\n",
              "\n",
              "</pre>\n"
            ]
          },
          "metadata": {}
        },
        {
          "output_type": "stream",
          "name": "stdout",
          "text": [
            "**************************************************\n",
            "Improved performance: 0.702140368342459 for layer intermediate.dense .0.. Total modifications is 15\n",
            "**************************************************\n",
            "Reconstructing layer: auto_model.encoder.layer.0.attention.output.dense\n",
            "Reduced from torch.Size([384]) to 76\n"
          ]
        },
        {
          "output_type": "display_data",
          "data": {
            "text/plain": [
              "\u001b[38;5;235m───────────────────────────────────────────────── \u001b[0m\u001b[1mSelected tasks \u001b[0m\u001b[38;5;235m ─────────────────────────────────────────────────\u001b[0m\n"
            ],
            "text/html": [
              "<pre style=\"white-space:pre;overflow-x:auto;line-height:normal;font-family:Menlo,'DejaVu Sans Mono',consolas,'Courier New',monospace\"><span style=\"color: #262626; text-decoration-color: #262626\">───────────────────────────────────────────────── </span><span style=\"font-weight: bold\">Selected tasks </span><span style=\"color: #262626; text-decoration-color: #262626\"> ─────────────────────────────────────────────────</span>\n",
              "</pre>\n"
            ]
          },
          "metadata": {}
        },
        {
          "output_type": "display_data",
          "data": {
            "text/plain": [
              "\u001b[1mClassification\u001b[0m\n"
            ],
            "text/html": [
              "<pre style=\"white-space:pre;overflow-x:auto;line-height:normal;font-family:Menlo,'DejaVu Sans Mono',consolas,'Courier New',monospace\"><span style=\"font-weight: bold\">Classification</span>\n",
              "</pre>\n"
            ]
          },
          "metadata": {}
        },
        {
          "output_type": "display_data",
          "data": {
            "text/plain": [
              "    - AmazonCounterfactualClassification, \u001b[3;38;5;241ms2s\u001b[0m, \u001b[3;31mmultilingual \u001b[0m\u001b[1;3;31m1\u001b[0m\u001b[3;31m \u001b[0m\u001b[3;31m/\u001b[0m\u001b[3;31m \u001b[0m\u001b[1;3;31m4\u001b[0m\u001b[3;31m langs\u001b[0m\n"
            ],
            "text/html": [
              "<pre style=\"white-space:pre;overflow-x:auto;line-height:normal;font-family:Menlo,'DejaVu Sans Mono',consolas,'Courier New',monospace\">    - AmazonCounterfactualClassification, <span style=\"color: #626262; text-decoration-color: #626262; font-style: italic\">s2s</span>, <span style=\"color: #800000; text-decoration-color: #800000; font-style: italic\">multilingual </span><span style=\"color: #800000; text-decoration-color: #800000; font-weight: bold; font-style: italic\">1</span><span style=\"color: #800000; text-decoration-color: #800000; font-style: italic\"> / </span><span style=\"color: #800000; text-decoration-color: #800000; font-weight: bold; font-style: italic\">4</span><span style=\"color: #800000; text-decoration-color: #800000; font-style: italic\"> langs</span>\n",
              "</pre>\n"
            ]
          },
          "metadata": {}
        },
        {
          "output_type": "display_data",
          "data": {
            "text/plain": [
              "\n",
              "\n"
            ],
            "text/html": [
              "<pre style=\"white-space:pre;overflow-x:auto;line-height:normal;font-family:Menlo,'DejaVu Sans Mono',consolas,'Courier New',monospace\">\n",
              "\n",
              "</pre>\n"
            ]
          },
          "metadata": {}
        },
        {
          "output_type": "stream",
          "name": "stdout",
          "text": [
            "Restored original weights for layer: auto_model.encoder.layer.0.attention.output.dense\n",
            "No original weights saved for layer: auto_model.encoder.layer.0.output.dense\n"
          ]
        }
      ]
    },
    {
      "cell_type": "code",
      "source": [
        "evaluation = MTEB(tasks=[\"AmazonCounterfactualClassification\"], task_langs=[\"en\"])\n",
        "results = evaluation.run(modifier.model, output_folder=f\"results\", eval_splits=[\"test\"], overwrite_results = True)"
      ],
      "metadata": {
        "colab": {
          "base_uri": "https://localhost:8080/",
          "height": 81
        },
        "id": "cPGIlhEbKhqy",
        "outputId": "22fa97b9-ed46-4cbd-ffff-323012247a2f"
      },
      "execution_count": 9,
      "outputs": [
        {
          "output_type": "display_data",
          "data": {
            "text/plain": [
              "\u001b[38;5;235m───────────────────────────────────────────────── \u001b[0m\u001b[1mSelected tasks \u001b[0m\u001b[38;5;235m ─────────────────────────────────────────────────\u001b[0m\n"
            ],
            "text/html": [
              "<pre style=\"white-space:pre;overflow-x:auto;line-height:normal;font-family:Menlo,'DejaVu Sans Mono',consolas,'Courier New',monospace\"><span style=\"color: #262626; text-decoration-color: #262626\">───────────────────────────────────────────────── </span><span style=\"font-weight: bold\">Selected tasks </span><span style=\"color: #262626; text-decoration-color: #262626\"> ─────────────────────────────────────────────────</span>\n",
              "</pre>\n"
            ]
          },
          "metadata": {}
        },
        {
          "output_type": "display_data",
          "data": {
            "text/plain": [
              "\u001b[1mClassification\u001b[0m\n"
            ],
            "text/html": [
              "<pre style=\"white-space:pre;overflow-x:auto;line-height:normal;font-family:Menlo,'DejaVu Sans Mono',consolas,'Courier New',monospace\"><span style=\"font-weight: bold\">Classification</span>\n",
              "</pre>\n"
            ]
          },
          "metadata": {}
        },
        {
          "output_type": "display_data",
          "data": {
            "text/plain": [
              "    - AmazonCounterfactualClassification, \u001b[3;38;5;241ms2s\u001b[0m, \u001b[3;31mmultilingual \u001b[0m\u001b[1;3;31m1\u001b[0m\u001b[3;31m \u001b[0m\u001b[3;31m/\u001b[0m\u001b[3;31m \u001b[0m\u001b[1;3;31m4\u001b[0m\u001b[3;31m langs\u001b[0m\n"
            ],
            "text/html": [
              "<pre style=\"white-space:pre;overflow-x:auto;line-height:normal;font-family:Menlo,'DejaVu Sans Mono',consolas,'Courier New',monospace\">    - AmazonCounterfactualClassification, <span style=\"color: #626262; text-decoration-color: #626262; font-style: italic\">s2s</span>, <span style=\"color: #800000; text-decoration-color: #800000; font-style: italic\">multilingual </span><span style=\"color: #800000; text-decoration-color: #800000; font-weight: bold; font-style: italic\">1</span><span style=\"color: #800000; text-decoration-color: #800000; font-style: italic\"> / </span><span style=\"color: #800000; text-decoration-color: #800000; font-weight: bold; font-style: italic\">4</span><span style=\"color: #800000; text-decoration-color: #800000; font-style: italic\"> langs</span>\n",
              "</pre>\n"
            ]
          },
          "metadata": {}
        },
        {
          "output_type": "display_data",
          "data": {
            "text/plain": [
              "\n",
              "\n"
            ],
            "text/html": [
              "<pre style=\"white-space:pre;overflow-x:auto;line-height:normal;font-family:Menlo,'DejaVu Sans Mono',consolas,'Courier New',monospace\">\n",
              "\n",
              "</pre>\n"
            ]
          },
          "metadata": {}
        }
      ]
    },
    {
      "cell_type": "code",
      "source": [
        "results"
      ],
      "metadata": {
        "colab": {
          "base_uri": "https://localhost:8080/"
        },
        "id": "BPOYRLRpKiMu",
        "outputId": "cec8b104-3704-4085-e361-5cad59dc7f3f"
      },
      "execution_count": 10,
      "outputs": [
        {
          "output_type": "execute_result",
          "data": {
            "text/plain": [
              "{'AmazonCounterfactualClassification': {'mteb_version': '1.1.1',\n",
              "  'dataset_revision': 'e8379541af4e31359cca9fbcf4b00f2671dba205',\n",
              "  'mteb_dataset_name': 'AmazonCounterfactualClassification',\n",
              "  'test': {'en': {'accuracy': 0.6946268656716418,\n",
              "    'f1': 0.6286425315011868,\n",
              "    'ap': 0.310106486602168,\n",
              "    'accuracy_stderr': 0.044412453524530854,\n",
              "    'f1_stderr': 0.036946517653703354,\n",
              "    'ap_stderr': 0.02831499661872636,\n",
              "    'main_score': 0.6946268656716418},\n",
              "   'evaluation_time': 0.9}}}"
            ]
          },
          "metadata": {},
          "execution_count": 10
        }
      ]
    },
    {
      "cell_type": "markdown",
      "source": [
        "**Accuracy**\n",
        "- Start: 63.58\n",
        "- 5 Mods: 64.53\n",
        "- 15 Mods: 69.46\n",
        "\n",
        "**F1**:\n",
        "- Start: 57.56\n",
        "- 5 Mods: 58.16\n",
        "- 15 Mods: 62.86"
      ],
      "metadata": {
        "id": "JFXEw-w6L5Os"
      }
    }
  ]
}